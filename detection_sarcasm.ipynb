{
  "cells": [
    {
      "cell_type": "markdown",
      "metadata": {
        "id": "view-in-github",
        "colab_type": "text"
      },
      "source": [
        "<a href=\"https://colab.research.google.com/github/islomchickk/Machine-Learning-course/blob/main/detection_sarcasm.ipynb\" target=\"_parent\"><img src=\"https://colab.research.google.com/assets/colab-badge.svg\" alt=\"Open In Colab\"/></a>"
      ]
    },
    {
      "cell_type": "code",
      "execution_count": 6,
      "metadata": {
        "colab": {
          "base_uri": "https://localhost:8080/"
        },
        "id": "35JDpU6r-wOJ",
        "outputId": "6fcd21a3-d2d3-4d18-80f3-48562f56ec18"
      },
      "outputs": [
        {
          "output_type": "stream",
          "name": "stdout",
          "text": [
            "Looking in indexes: https://pypi.org/simple, https://us-python.pkg.dev/colab-wheels/public/simple/\n",
            "Requirement already satisfied: emoji in /usr/local/lib/python3.9/dist-packages (2.2.0)\n"
          ]
        }
      ],
      "source": [
        "!pip install emoji"
      ],
      "id": "35JDpU6r-wOJ"
    },
    {
      "cell_type": "code",
      "execution_count": 7,
      "metadata": {
        "colab": {
          "base_uri": "https://localhost:8080/"
        },
        "id": "901bbff6",
        "outputId": "e2f854f8-8412-4ed2-b4e0-672cfd08e910"
      },
      "outputs": [
        {
          "output_type": "stream",
          "name": "stderr",
          "text": [
            "[nltk_data] Downloading package omw-1.4 to /root/nltk_data...\n",
            "[nltk_data]   Package omw-1.4 is already up-to-date!\n"
          ]
        }
      ],
      "source": [
        "import pandas as pd\n",
        "import numpy as np\n",
        "import matplotlib.pyplot as plt\n",
        "import seaborn as sns\n",
        "\n",
        "from sklearn.model_selection import train_test_split, GridSearchCV\n",
        "from sklearn.linear_model import LogisticRegression\n",
        "from sklearn.metrics import f1_score, RocCurveDisplay, accuracy_score\n",
        "from sklearn import metrics\n",
        "from sklearn.cluster import KMeans\n",
        "from sklearn.feature_extraction.text import TfidfVectorizer\n",
        "from sklearn.ensemble import RandomForestClassifier\n",
        "from sklearn.svm import SVC\n",
        "\n",
        "from xgboost import XGBClassifier\n",
        "\n",
        "import nltk\n",
        "from nltk.corpus import stopwords\n",
        "from nltk.tokenize import word_tokenize\n",
        "from nltk.stem import WordNetLemmatizer\n",
        "\n",
        "nltk.download('omw-1.4')\n",
        "\n",
        "import emoji\n",
        "\n",
        "import warnings\n",
        "warnings.filterwarnings('ignore')"
      ],
      "id": "901bbff6"
    },
    {
      "cell_type": "markdown",
      "source": [
        "# Данные"
      ],
      "metadata": {
        "id": "AWjJdQLbgZGM"
      },
      "id": "AWjJdQLbgZGM"
    },
    {
      "cell_type": "code",
      "execution_count": 8,
      "metadata": {
        "colab": {
          "base_uri": "https://localhost:8080/"
        },
        "id": "Zk8rzXAy-oGw",
        "outputId": "ec618c93-5328-4016-fc82-156f0e45af1f"
      },
      "outputs": [
        {
          "output_type": "stream",
          "name": "stdout",
          "text": [
            "Drive already mounted at /content/drive; to attempt to forcibly remount, call drive.mount(\"/content/drive\", force_remount=True).\n"
          ]
        }
      ],
      "source": [
        "from google.colab import drive\n",
        "drive.mount('/content/drive')"
      ],
      "id": "Zk8rzXAy-oGw"
    },
    {
      "cell_type": "code",
      "execution_count": 9,
      "metadata": {
        "colab": {
          "base_uri": "https://localhost:8080/",
          "height": 206
        },
        "id": "1334ea32",
        "outputId": "593526b4-4a80-4e21-e601-b61a489bd50d"
      },
      "outputs": [
        {
          "output_type": "execute_result",
          "data": {
            "text/plain": [
              "                                        article_link  \\\n",
              "0  https://www.huffingtonpost.com/entry/versace-b...   \n",
              "1  https://www.huffingtonpost.com/entry/roseanne-...   \n",
              "2  https://local.theonion.com/mom-starting-to-fea...   \n",
              "3  https://politics.theonion.com/boehner-just-wan...   \n",
              "4  https://www.huffingtonpost.com/entry/jk-rowlin...   \n",
              "\n",
              "                                            headline  is_sarcastic  \n",
              "0  former versace store clerk sues over secret 'b...             0  \n",
              "1  the 'roseanne' revival catches up to our thorn...             0  \n",
              "2  mom starting to fear son's web series closest ...             1  \n",
              "3  boehner just wants wife to listen, not come up...             1  \n",
              "4  j.k. rowling wishes snape happy birthday in th...             0  "
            ],
            "text/html": [
              "\n",
              "  <div id=\"df-a2c400f9-5a91-4f73-bd20-e7f4c242fa2d\">\n",
              "    <div class=\"colab-df-container\">\n",
              "      <div>\n",
              "<style scoped>\n",
              "    .dataframe tbody tr th:only-of-type {\n",
              "        vertical-align: middle;\n",
              "    }\n",
              "\n",
              "    .dataframe tbody tr th {\n",
              "        vertical-align: top;\n",
              "    }\n",
              "\n",
              "    .dataframe thead th {\n",
              "        text-align: right;\n",
              "    }\n",
              "</style>\n",
              "<table border=\"1\" class=\"dataframe\">\n",
              "  <thead>\n",
              "    <tr style=\"text-align: right;\">\n",
              "      <th></th>\n",
              "      <th>article_link</th>\n",
              "      <th>headline</th>\n",
              "      <th>is_sarcastic</th>\n",
              "    </tr>\n",
              "  </thead>\n",
              "  <tbody>\n",
              "    <tr>\n",
              "      <th>0</th>\n",
              "      <td>https://www.huffingtonpost.com/entry/versace-b...</td>\n",
              "      <td>former versace store clerk sues over secret 'b...</td>\n",
              "      <td>0</td>\n",
              "    </tr>\n",
              "    <tr>\n",
              "      <th>1</th>\n",
              "      <td>https://www.huffingtonpost.com/entry/roseanne-...</td>\n",
              "      <td>the 'roseanne' revival catches up to our thorn...</td>\n",
              "      <td>0</td>\n",
              "    </tr>\n",
              "    <tr>\n",
              "      <th>2</th>\n",
              "      <td>https://local.theonion.com/mom-starting-to-fea...</td>\n",
              "      <td>mom starting to fear son's web series closest ...</td>\n",
              "      <td>1</td>\n",
              "    </tr>\n",
              "    <tr>\n",
              "      <th>3</th>\n",
              "      <td>https://politics.theonion.com/boehner-just-wan...</td>\n",
              "      <td>boehner just wants wife to listen, not come up...</td>\n",
              "      <td>1</td>\n",
              "    </tr>\n",
              "    <tr>\n",
              "      <th>4</th>\n",
              "      <td>https://www.huffingtonpost.com/entry/jk-rowlin...</td>\n",
              "      <td>j.k. rowling wishes snape happy birthday in th...</td>\n",
              "      <td>0</td>\n",
              "    </tr>\n",
              "  </tbody>\n",
              "</table>\n",
              "</div>\n",
              "      <button class=\"colab-df-convert\" onclick=\"convertToInteractive('df-a2c400f9-5a91-4f73-bd20-e7f4c242fa2d')\"\n",
              "              title=\"Convert this dataframe to an interactive table.\"\n",
              "              style=\"display:none;\">\n",
              "        \n",
              "  <svg xmlns=\"http://www.w3.org/2000/svg\" height=\"24px\"viewBox=\"0 0 24 24\"\n",
              "       width=\"24px\">\n",
              "    <path d=\"M0 0h24v24H0V0z\" fill=\"none\"/>\n",
              "    <path d=\"M18.56 5.44l.94 2.06.94-2.06 2.06-.94-2.06-.94-.94-2.06-.94 2.06-2.06.94zm-11 1L8.5 8.5l.94-2.06 2.06-.94-2.06-.94L8.5 2.5l-.94 2.06-2.06.94zm10 10l.94 2.06.94-2.06 2.06-.94-2.06-.94-.94-2.06-.94 2.06-2.06.94z\"/><path d=\"M17.41 7.96l-1.37-1.37c-.4-.4-.92-.59-1.43-.59-.52 0-1.04.2-1.43.59L10.3 9.45l-7.72 7.72c-.78.78-.78 2.05 0 2.83L4 21.41c.39.39.9.59 1.41.59.51 0 1.02-.2 1.41-.59l7.78-7.78 2.81-2.81c.8-.78.8-2.07 0-2.86zM5.41 20L4 18.59l7.72-7.72 1.47 1.35L5.41 20z\"/>\n",
              "  </svg>\n",
              "      </button>\n",
              "      \n",
              "  <style>\n",
              "    .colab-df-container {\n",
              "      display:flex;\n",
              "      flex-wrap:wrap;\n",
              "      gap: 12px;\n",
              "    }\n",
              "\n",
              "    .colab-df-convert {\n",
              "      background-color: #E8F0FE;\n",
              "      border: none;\n",
              "      border-radius: 50%;\n",
              "      cursor: pointer;\n",
              "      display: none;\n",
              "      fill: #1967D2;\n",
              "      height: 32px;\n",
              "      padding: 0 0 0 0;\n",
              "      width: 32px;\n",
              "    }\n",
              "\n",
              "    .colab-df-convert:hover {\n",
              "      background-color: #E2EBFA;\n",
              "      box-shadow: 0px 1px 2px rgba(60, 64, 67, 0.3), 0px 1px 3px 1px rgba(60, 64, 67, 0.15);\n",
              "      fill: #174EA6;\n",
              "    }\n",
              "\n",
              "    [theme=dark] .colab-df-convert {\n",
              "      background-color: #3B4455;\n",
              "      fill: #D2E3FC;\n",
              "    }\n",
              "\n",
              "    [theme=dark] .colab-df-convert:hover {\n",
              "      background-color: #434B5C;\n",
              "      box-shadow: 0px 1px 3px 1px rgba(0, 0, 0, 0.15);\n",
              "      filter: drop-shadow(0px 1px 2px rgba(0, 0, 0, 0.3));\n",
              "      fill: #FFFFFF;\n",
              "    }\n",
              "  </style>\n",
              "\n",
              "      <script>\n",
              "        const buttonEl =\n",
              "          document.querySelector('#df-a2c400f9-5a91-4f73-bd20-e7f4c242fa2d button.colab-df-convert');\n",
              "        buttonEl.style.display =\n",
              "          google.colab.kernel.accessAllowed ? 'block' : 'none';\n",
              "\n",
              "        async function convertToInteractive(key) {\n",
              "          const element = document.querySelector('#df-a2c400f9-5a91-4f73-bd20-e7f4c242fa2d');\n",
              "          const dataTable =\n",
              "            await google.colab.kernel.invokeFunction('convertToInteractive',\n",
              "                                                     [key], {});\n",
              "          if (!dataTable) return;\n",
              "\n",
              "          const docLinkHtml = 'Like what you see? Visit the ' +\n",
              "            '<a target=\"_blank\" href=https://colab.research.google.com/notebooks/data_table.ipynb>data table notebook</a>'\n",
              "            + ' to learn more about interactive tables.';\n",
              "          element.innerHTML = '';\n",
              "          dataTable['output_type'] = 'display_data';\n",
              "          await google.colab.output.renderOutput(dataTable, element);\n",
              "          const docLink = document.createElement('div');\n",
              "          docLink.innerHTML = docLinkHtml;\n",
              "          element.appendChild(docLink);\n",
              "        }\n",
              "      </script>\n",
              "    </div>\n",
              "  </div>\n",
              "  "
            ]
          },
          "metadata": {},
          "execution_count": 9
        }
      ],
      "source": [
        "Sarcasm = pd.read_json('/content/drive/MyDrive/Colab Notebooks/МО/ЕДЗ/Sarcasm.json', lines=True)\n",
        "Sarcasm.head()"
      ],
      "id": "1334ea32"
    },
    {
      "cell_type": "code",
      "execution_count": 10,
      "metadata": {
        "colab": {
          "base_uri": "https://localhost:8080/",
          "height": 206
        },
        "id": "8e0b87a0",
        "outputId": "a63abc8f-5361-43b9-afe9-f1c924148c2d"
      },
      "outputs": [
        {
          "output_type": "execute_result",
          "data": {
            "text/plain": [
              "                                                text  sarcasm\n",
              "0  former versace store clerk sues over secret 'b...        0\n",
              "1  the 'roseanne' revival catches up to our thorn...        0\n",
              "2  mom starting to fear son's web series closest ...        1\n",
              "3  boehner just wants wife to listen, not come up...        1\n",
              "4  j.k. rowling wishes snape happy birthday in th...        0"
            ],
            "text/html": [
              "\n",
              "  <div id=\"df-3166e65d-40d8-4d3c-9e87-2f4479d328fb\">\n",
              "    <div class=\"colab-df-container\">\n",
              "      <div>\n",
              "<style scoped>\n",
              "    .dataframe tbody tr th:only-of-type {\n",
              "        vertical-align: middle;\n",
              "    }\n",
              "\n",
              "    .dataframe tbody tr th {\n",
              "        vertical-align: top;\n",
              "    }\n",
              "\n",
              "    .dataframe thead th {\n",
              "        text-align: right;\n",
              "    }\n",
              "</style>\n",
              "<table border=\"1\" class=\"dataframe\">\n",
              "  <thead>\n",
              "    <tr style=\"text-align: right;\">\n",
              "      <th></th>\n",
              "      <th>text</th>\n",
              "      <th>sarcasm</th>\n",
              "    </tr>\n",
              "  </thead>\n",
              "  <tbody>\n",
              "    <tr>\n",
              "      <th>0</th>\n",
              "      <td>former versace store clerk sues over secret 'b...</td>\n",
              "      <td>0</td>\n",
              "    </tr>\n",
              "    <tr>\n",
              "      <th>1</th>\n",
              "      <td>the 'roseanne' revival catches up to our thorn...</td>\n",
              "      <td>0</td>\n",
              "    </tr>\n",
              "    <tr>\n",
              "      <th>2</th>\n",
              "      <td>mom starting to fear son's web series closest ...</td>\n",
              "      <td>1</td>\n",
              "    </tr>\n",
              "    <tr>\n",
              "      <th>3</th>\n",
              "      <td>boehner just wants wife to listen, not come up...</td>\n",
              "      <td>1</td>\n",
              "    </tr>\n",
              "    <tr>\n",
              "      <th>4</th>\n",
              "      <td>j.k. rowling wishes snape happy birthday in th...</td>\n",
              "      <td>0</td>\n",
              "    </tr>\n",
              "  </tbody>\n",
              "</table>\n",
              "</div>\n",
              "      <button class=\"colab-df-convert\" onclick=\"convertToInteractive('df-3166e65d-40d8-4d3c-9e87-2f4479d328fb')\"\n",
              "              title=\"Convert this dataframe to an interactive table.\"\n",
              "              style=\"display:none;\">\n",
              "        \n",
              "  <svg xmlns=\"http://www.w3.org/2000/svg\" height=\"24px\"viewBox=\"0 0 24 24\"\n",
              "       width=\"24px\">\n",
              "    <path d=\"M0 0h24v24H0V0z\" fill=\"none\"/>\n",
              "    <path d=\"M18.56 5.44l.94 2.06.94-2.06 2.06-.94-2.06-.94-.94-2.06-.94 2.06-2.06.94zm-11 1L8.5 8.5l.94-2.06 2.06-.94-2.06-.94L8.5 2.5l-.94 2.06-2.06.94zm10 10l.94 2.06.94-2.06 2.06-.94-2.06-.94-.94-2.06-.94 2.06-2.06.94z\"/><path d=\"M17.41 7.96l-1.37-1.37c-.4-.4-.92-.59-1.43-.59-.52 0-1.04.2-1.43.59L10.3 9.45l-7.72 7.72c-.78.78-.78 2.05 0 2.83L4 21.41c.39.39.9.59 1.41.59.51 0 1.02-.2 1.41-.59l7.78-7.78 2.81-2.81c.8-.78.8-2.07 0-2.86zM5.41 20L4 18.59l7.72-7.72 1.47 1.35L5.41 20z\"/>\n",
              "  </svg>\n",
              "      </button>\n",
              "      \n",
              "  <style>\n",
              "    .colab-df-container {\n",
              "      display:flex;\n",
              "      flex-wrap:wrap;\n",
              "      gap: 12px;\n",
              "    }\n",
              "\n",
              "    .colab-df-convert {\n",
              "      background-color: #E8F0FE;\n",
              "      border: none;\n",
              "      border-radius: 50%;\n",
              "      cursor: pointer;\n",
              "      display: none;\n",
              "      fill: #1967D2;\n",
              "      height: 32px;\n",
              "      padding: 0 0 0 0;\n",
              "      width: 32px;\n",
              "    }\n",
              "\n",
              "    .colab-df-convert:hover {\n",
              "      background-color: #E2EBFA;\n",
              "      box-shadow: 0px 1px 2px rgba(60, 64, 67, 0.3), 0px 1px 3px 1px rgba(60, 64, 67, 0.15);\n",
              "      fill: #174EA6;\n",
              "    }\n",
              "\n",
              "    [theme=dark] .colab-df-convert {\n",
              "      background-color: #3B4455;\n",
              "      fill: #D2E3FC;\n",
              "    }\n",
              "\n",
              "    [theme=dark] .colab-df-convert:hover {\n",
              "      background-color: #434B5C;\n",
              "      box-shadow: 0px 1px 3px 1px rgba(0, 0, 0, 0.15);\n",
              "      filter: drop-shadow(0px 1px 2px rgba(0, 0, 0, 0.3));\n",
              "      fill: #FFFFFF;\n",
              "    }\n",
              "  </style>\n",
              "\n",
              "      <script>\n",
              "        const buttonEl =\n",
              "          document.querySelector('#df-3166e65d-40d8-4d3c-9e87-2f4479d328fb button.colab-df-convert');\n",
              "        buttonEl.style.display =\n",
              "          google.colab.kernel.accessAllowed ? 'block' : 'none';\n",
              "\n",
              "        async function convertToInteractive(key) {\n",
              "          const element = document.querySelector('#df-3166e65d-40d8-4d3c-9e87-2f4479d328fb');\n",
              "          const dataTable =\n",
              "            await google.colab.kernel.invokeFunction('convertToInteractive',\n",
              "                                                     [key], {});\n",
              "          if (!dataTable) return;\n",
              "\n",
              "          const docLinkHtml = 'Like what you see? Visit the ' +\n",
              "            '<a target=\"_blank\" href=https://colab.research.google.com/notebooks/data_table.ipynb>data table notebook</a>'\n",
              "            + ' to learn more about interactive tables.';\n",
              "          element.innerHTML = '';\n",
              "          dataTable['output_type'] = 'display_data';\n",
              "          await google.colab.output.renderOutput(dataTable, element);\n",
              "          const docLink = document.createElement('div');\n",
              "          docLink.innerHTML = docLinkHtml;\n",
              "          element.appendChild(docLink);\n",
              "        }\n",
              "      </script>\n",
              "    </div>\n",
              "  </div>\n",
              "  "
            ]
          },
          "metadata": {},
          "execution_count": 10
        }
      ],
      "source": [
        "sarcasm_df = Sarcasm[['headline', 'is_sarcastic']]\n",
        "sarcasm_df.columns = ['text', 'sarcasm']\n",
        "sarcasm_df.head()"
      ],
      "id": "8e0b87a0"
    },
    {
      "cell_type": "code",
      "execution_count": 11,
      "metadata": {
        "colab": {
          "base_uri": "https://localhost:8080/"
        },
        "id": "18a2de91",
        "outputId": "d6637007-36f4-4673-eddf-d81d637edb61"
      },
      "outputs": [
        {
          "output_type": "stream",
          "name": "stdout",
          "text": [
            "<class 'pandas.core.frame.DataFrame'>\n",
            "RangeIndex: 26709 entries, 0 to 26708\n",
            "Data columns (total 2 columns):\n",
            " #   Column   Non-Null Count  Dtype \n",
            "---  ------   --------------  ----- \n",
            " 0   text     26709 non-null  object\n",
            " 1   sarcasm  26709 non-null  int64 \n",
            "dtypes: int64(1), object(1)\n",
            "memory usage: 417.5+ KB\n"
          ]
        }
      ],
      "source": [
        "sarcasm_df.info()"
      ],
      "id": "18a2de91"
    },
    {
      "cell_type": "markdown",
      "source": [
        "# Без преодобработки"
      ],
      "metadata": {
        "id": "xZKIOhChgeTa"
      },
      "id": "xZKIOhChgeTa"
    },
    {
      "cell_type": "markdown",
      "source": [
        "## Подготовка данных"
      ],
      "metadata": {
        "id": "6p0k6SMCjzb6"
      },
      "id": "6p0k6SMCjzb6"
    },
    {
      "cell_type": "code",
      "execution_count": 12,
      "metadata": {
        "colab": {
          "base_uri": "https://localhost:8080/"
        },
        "outputId": "19fd1353-16a0-4a13-f353-9281789ea8f2",
        "id": "WEJ4GeuHgrjC"
      },
      "outputs": [
        {
          "output_type": "execute_result",
          "data": {
            "text/plain": [
              "{' ',\n",
              " '!',\n",
              " '\"',\n",
              " '#',\n",
              " '$',\n",
              " '%',\n",
              " '&',\n",
              " \"'\",\n",
              " '(',\n",
              " ')',\n",
              " '*',\n",
              " '+',\n",
              " ',',\n",
              " '-',\n",
              " '.',\n",
              " '/',\n",
              " '0',\n",
              " '1',\n",
              " '2',\n",
              " '3',\n",
              " '4',\n",
              " '5',\n",
              " '6',\n",
              " '7',\n",
              " '8',\n",
              " '9',\n",
              " ':',\n",
              " ';',\n",
              " '=',\n",
              " '>',\n",
              " '?',\n",
              " '@',\n",
              " '[',\n",
              " '\\\\',\n",
              " ']',\n",
              " '_',\n",
              " 'a',\n",
              " 'b',\n",
              " 'c',\n",
              " 'd',\n",
              " 'e',\n",
              " 'f',\n",
              " 'g',\n",
              " 'h',\n",
              " 'i',\n",
              " 'j',\n",
              " 'k',\n",
              " 'l',\n",
              " 'm',\n",
              " 'n',\n",
              " 'o',\n",
              " 'p',\n",
              " 'q',\n",
              " 'r',\n",
              " 's',\n",
              " 't',\n",
              " 'u',\n",
              " 'v',\n",
              " 'w',\n",
              " 'x',\n",
              " 'y',\n",
              " 'z',\n",
              " '{',\n",
              " '|',\n",
              " '}',\n",
              " '\\x97',\n",
              " '\\x99',\n",
              " '\\xa0',\n",
              " '¡',\n",
              " '©',\n",
              " '¯',\n",
              " '°',\n",
              " '¿',\n",
              " '×',\n",
              " 'à',\n",
              " 'á',\n",
              " 'ã',\n",
              " 'ä',\n",
              " 'ç',\n",
              " 'é',\n",
              " 'ë',\n",
              " 'í',\n",
              " 'ï',\n",
              " 'ñ',\n",
              " 'ó',\n",
              " 'ö',\n",
              " 'ø',\n",
              " 'û',\n",
              " 'ü',\n",
              " 'ſ',\n",
              " '̈',\n",
              " 'λ',\n",
              " '\\u200a',\n",
              " '\\u200b',\n",
              " '–',\n",
              " '—',\n",
              " '―',\n",
              " '“',\n",
              " '”',\n",
              " '…',\n",
              " '™',\n",
              " 'ツ'}"
            ]
          },
          "metadata": {},
          "execution_count": 12
        }
      ],
      "source": [
        "set(''.join(sarcasm_df['text'].tolist()))"
      ],
      "id": "WEJ4GeuHgrjC"
    },
    {
      "cell_type": "markdown",
      "source": [
        "Видно, что в данных присутствуют много инородных символов. В следующем разделе попробуем избавиться от них."
      ],
      "metadata": {
        "id": "9VmScsDahylK"
      },
      "id": "9VmScsDahylK"
    },
    {
      "cell_type": "markdown",
      "source": [
        "Разделим датасет на Х и у для удобства."
      ],
      "metadata": {
        "id": "M-1wSbRkiRe1"
      },
      "id": "M-1wSbRkiRe1"
    },
    {
      "cell_type": "code",
      "execution_count": 13,
      "metadata": {
        "id": "Ld-vMNb-grjD"
      },
      "outputs": [],
      "source": [
        "X = sarcasm_df.text\n",
        "y = sarcasm_df.sarcasm"
      ],
      "id": "Ld-vMNb-grjD"
    },
    {
      "cell_type": "markdown",
      "source": [
        "Используем TF-IDF vectorizer для преобразования текста в числовой формат. Возьмем max_features=10000."
      ],
      "metadata": {
        "id": "d3NNrIAkjWh9"
      },
      "id": "d3NNrIAkjWh9"
    },
    {
      "cell_type": "code",
      "execution_count": 14,
      "metadata": {
        "id": "wMC3y5nLgrjD"
      },
      "outputs": [],
      "source": [
        "vectorizer = TfidfVectorizer(max_features=10000)"
      ],
      "id": "wMC3y5nLgrjD"
    },
    {
      "cell_type": "code",
      "execution_count": 15,
      "metadata": {
        "id": "bQWIca9OgrjD"
      },
      "outputs": [],
      "source": [
        "X_tfidf = vectorizer.fit_transform(X).toarray()"
      ],
      "id": "bQWIca9OgrjD"
    },
    {
      "cell_type": "code",
      "source": [
        "X_tfidf.shape"
      ],
      "metadata": {
        "colab": {
          "base_uri": "https://localhost:8080/"
        },
        "outputId": "2466af95-364c-4bd2-93a2-d2311fce03d0",
        "id": "uk6YsSchgrjD"
      },
      "execution_count": 16,
      "outputs": [
        {
          "output_type": "execute_result",
          "data": {
            "text/plain": [
              "(26709, 10000)"
            ]
          },
          "metadata": {},
          "execution_count": 16
        }
      ],
      "id": "uk6YsSchgrjD"
    },
    {
      "cell_type": "markdown",
      "source": [
        "Разделим датасет на тренировочную и тестовую выборки в соотношении 0,7:0,3 соответственно и random_state=42."
      ],
      "metadata": {
        "id": "cCID6Jiijctv"
      },
      "id": "cCID6Jiijctv"
    },
    {
      "cell_type": "code",
      "execution_count": 17,
      "metadata": {
        "id": "HpTJLz2HgrjD"
      },
      "outputs": [],
      "source": [
        "X_train, X_test, y_train, y_test = train_test_split(X_tfidf, y, test_size=0.3, random_state=42)"
      ],
      "id": "HpTJLz2HgrjD"
    },
    {
      "cell_type": "code",
      "source": [
        "X_tfidf.shape"
      ],
      "metadata": {
        "colab": {
          "base_uri": "https://localhost:8080/"
        },
        "outputId": "3dbb72ad-d6f3-40f0-f5da-027fe21e67da",
        "id": "4tt1s1VVgrjD"
      },
      "execution_count": 18,
      "outputs": [
        {
          "output_type": "execute_result",
          "data": {
            "text/plain": [
              "(26709, 10000)"
            ]
          },
          "metadata": {},
          "execution_count": 18
        }
      ],
      "id": "4tt1s1VVgrjD"
    },
    {
      "cell_type": "code",
      "execution_count": 19,
      "metadata": {
        "colab": {
          "base_uri": "https://localhost:8080/"
        },
        "outputId": "bc6885ee-750b-47ec-ab19-857f3085109f",
        "id": "KS-b2_kRgrjD"
      },
      "outputs": [
        {
          "output_type": "stream",
          "name": "stdout",
          "text": [
            "Разиер обучющей выборки: (18696, 10000)\n",
            "Разиер тестовой выборки: (8013, 10000)\n"
          ]
        }
      ],
      "source": [
        "print(f'Разиер обучющей выборки: {X_train.shape}')\n",
        "print(f'Разиер тестовой выборки: {X_test.shape}')"
      ],
      "id": "KS-b2_kRgrjD"
    },
    {
      "cell_type": "markdown",
      "source": [
        "## LogisticRefression() - Baseline."
      ],
      "metadata": {
        "id": "K0grtjJljwbC"
      },
      "id": "K0grtjJljwbC"
    },
    {
      "cell_type": "code",
      "execution_count": 20,
      "metadata": {
        "id": "BLPfMb4PgrjD"
      },
      "outputs": [],
      "source": [
        "lr = LogisticRegression().fit(X_train, y_train)\n",
        "y_lr = lr.predict(X_test)"
      ],
      "id": "BLPfMb4PgrjD"
    },
    {
      "cell_type": "markdown",
      "source": [
        "В качестве метрики возьмем accuracy."
      ],
      "metadata": {
        "id": "slH668VakBR7"
      },
      "id": "slH668VakBR7"
    },
    {
      "cell_type": "code",
      "execution_count": 21,
      "metadata": {
        "colab": {
          "base_uri": "https://localhost:8080/"
        },
        "outputId": "1950a368-dec9-4f02-c4d7-ffcbbf7604f0",
        "id": "eO5I2WcdgrjD"
      },
      "outputs": [
        {
          "output_type": "execute_result",
          "data": {
            "text/plain": [
              "0.844377885935355"
            ]
          },
          "metadata": {},
          "execution_count": 21
        }
      ],
      "source": [
        "acc_lr = accuracy_score(y_test, y_lr)\n",
        "acc_lr"
      ],
      "id": "eO5I2WcdgrjD"
    },
    {
      "cell_type": "code",
      "source": [],
      "metadata": {
        "id": "HuU8Xv8VgrjE"
      },
      "execution_count": 21,
      "outputs": [],
      "id": "HuU8Xv8VgrjE"
    },
    {
      "cell_type": "markdown",
      "source": [
        "## RandomForestClassifier"
      ],
      "metadata": {
        "id": "qFYdCX_ikMSF"
      },
      "id": "qFYdCX_ikMSF"
    },
    {
      "cell_type": "markdown",
      "source": [
        "Деревья обычно плохосправляются с такими данными, но попытка не пытка)"
      ],
      "metadata": {
        "id": "oUxRvs_KkSNh"
      },
      "id": "oUxRvs_KkSNh"
    },
    {
      "cell_type": "code",
      "execution_count": 22,
      "metadata": {
        "colab": {
          "base_uri": "https://localhost:8080/"
        },
        "outputId": "0e027ead-ff7c-4141-d4f0-384ed6bc8b40",
        "id": "iROY2ynQgrjE"
      },
      "outputs": [
        {
          "output_type": "execute_result",
          "data": {
            "text/plain": [
              "0.8050667665044303"
            ]
          },
          "metadata": {},
          "execution_count": 22
        }
      ],
      "source": [
        "rfc = RandomForestClassifier(n_estimators=100).fit(X_train, y_train)\n",
        "\n",
        "y_rfc = rfc.predict(X_test)\n",
        "\n",
        "acc_rfc = accuracy_score(y_test, y_rfc)\n",
        "acc_rfc"
      ],
      "id": "iROY2ynQgrjE"
    },
    {
      "cell_type": "markdown",
      "source": [
        "Я пробовал применить GridSearchCV для поиска оптимальной структуры деревьев, но у меня ноутбук завис, очень долго считал."
      ],
      "metadata": {
        "id": "NoGY1o86khHD"
      },
      "id": "NoGY1o86khHD"
    },
    {
      "cell_type": "markdown",
      "source": [
        "## SVM"
      ],
      "metadata": {
        "id": "qZD08M2nk7SW"
      },
      "id": "qZD08M2nk7SW"
    },
    {
      "cell_type": "code",
      "execution_count": 23,
      "metadata": {
        "id": "SA5ZwrT2grjE"
      },
      "outputs": [],
      "source": [
        "# svm = SVC().fit(X_train, y_train)\n",
        "\n",
        "# y_svm = svm.predict(X_test)\n",
        "\n",
        "# acc_svm = accuracy_score(y_test, y_svm)\n",
        "# acc_svm"
      ],
      "id": "SA5ZwrT2grjE"
    },
    {
      "cell_type": "markdown",
      "source": [
        "Также очень долго считает, даже без GridSearchCV..."
      ],
      "metadata": {
        "id": "0DtzZjWylAgz"
      },
      "id": "0DtzZjWylAgz"
    },
    {
      "cell_type": "code",
      "source": [
        "# fpr, tpr, thresholds = metrics.roc_curve(y_test, y_svm)\n",
        "# roc_auc = metrics.auc(fpr, tpr)\n",
        "# display = metrics.RocCurveDisplay(fpr=fpr, tpr=tpr, roc_auc=roc_auc,\n",
        "#                                    estimator_name='example estimator')\n",
        "# display.plot()\n",
        "\n",
        "# plt.show()"
      ],
      "metadata": {
        "id": "97GV9LtrgrjD"
      },
      "execution_count": 24,
      "outputs": [],
      "id": "97GV9LtrgrjD"
    },
    {
      "cell_type": "markdown",
      "source": [
        "## XGBClassifier"
      ],
      "metadata": {
        "id": "nuxN_YgVlKYx"
      },
      "id": "nuxN_YgVlKYx"
    },
    {
      "cell_type": "markdown",
      "source": [
        "На последок применим XGBClassifier"
      ],
      "metadata": {
        "id": "bKHsMyz0lTit"
      },
      "id": "bKHsMyz0lTit"
    },
    {
      "cell_type": "code",
      "execution_count": 131,
      "metadata": {
        "id": "oJfD31DSgrjE"
      },
      "outputs": [],
      "source": [
        "# xg = XGBClassifier().fit(X_train, y_train)\n",
        "# y_xg = xg.predict(X_test)\n",
        "\n",
        "# acc_xg = accuracy_score(y_test, y_xg)\n",
        "# acc_xg"
      ],
      "id": "oJfD31DSgrjE"
    },
    {
      "cell_type": "markdown",
      "source": [
        "Ни один модель не смогла превысить baseline заданным LogisticRegression, поэтому посмотрим что скажут НС."
      ],
      "metadata": {
        "id": "j2wS9f4-lY1f"
      },
      "id": "j2wS9f4-lY1f"
    },
    {
      "cell_type": "markdown",
      "source": [
        "![](https://www.meme-arsenal.com/memes/f920fa75d0025495ffd6828bfbda0687.jpg)"
      ],
      "metadata": {
        "id": "3FczU9PkmKZB"
      },
      "id": "3FczU9PkmKZB"
    },
    {
      "cell_type": "markdown",
      "source": [
        "## Нейронные сети"
      ],
      "metadata": {
        "id": "7ekHX7KcgrjE"
      },
      "id": "7ekHX7KcgrjE"
    },
    {
      "cell_type": "code",
      "execution_count": 26,
      "metadata": {
        "id": "STOM4xwpgrjE"
      },
      "outputs": [],
      "source": [
        "from tensorflow.keras.models import Sequential\n",
        "from tensorflow.keras.layers import Dense, Embedding, MaxPooling1D, Conv1D, GlobalMaxPooling1D, Dropout, LSTM, GRU\n",
        "from tensorflow.keras import utils\n",
        "from tensorflow.keras.preprocessing.sequence import pad_sequences\n",
        "from tensorflow.keras.preprocessing.text import Tokenizer\n",
        "from tensorflow.keras.callbacks import ModelCheckpoint\n",
        "from tensorflow.keras import utils"
      ],
      "id": "STOM4xwpgrjE"
    },
    {
      "cell_type": "markdown",
      "source": [
        "### Немного предобработки"
      ],
      "metadata": {
        "id": "yP382PRzgrjE"
      },
      "id": "yP382PRzgrjE"
    },
    {
      "cell_type": "code",
      "source": [
        "sarcasm_df = Sarcasm[['headline', 'is_sarcastic']]\n",
        "sarcasm_df.columns = ['text', 'sarcasm']\n",
        "sarcasm_df.head()"
      ],
      "metadata": {
        "colab": {
          "base_uri": "https://localhost:8080/",
          "height": 206
        },
        "outputId": "8dd020f4-ad8d-488b-f62a-9008a7f7b7ad",
        "id": "fs-zHfd4grjE"
      },
      "execution_count": 27,
      "outputs": [
        {
          "output_type": "execute_result",
          "data": {
            "text/plain": [
              "                                                text  sarcasm\n",
              "0  former versace store clerk sues over secret 'b...        0\n",
              "1  the 'roseanne' revival catches up to our thorn...        0\n",
              "2  mom starting to fear son's web series closest ...        1\n",
              "3  boehner just wants wife to listen, not come up...        1\n",
              "4  j.k. rowling wishes snape happy birthday in th...        0"
            ],
            "text/html": [
              "\n",
              "  <div id=\"df-f1954b2d-0dae-4b66-ad31-7a31304f29e8\">\n",
              "    <div class=\"colab-df-container\">\n",
              "      <div>\n",
              "<style scoped>\n",
              "    .dataframe tbody tr th:only-of-type {\n",
              "        vertical-align: middle;\n",
              "    }\n",
              "\n",
              "    .dataframe tbody tr th {\n",
              "        vertical-align: top;\n",
              "    }\n",
              "\n",
              "    .dataframe thead th {\n",
              "        text-align: right;\n",
              "    }\n",
              "</style>\n",
              "<table border=\"1\" class=\"dataframe\">\n",
              "  <thead>\n",
              "    <tr style=\"text-align: right;\">\n",
              "      <th></th>\n",
              "      <th>text</th>\n",
              "      <th>sarcasm</th>\n",
              "    </tr>\n",
              "  </thead>\n",
              "  <tbody>\n",
              "    <tr>\n",
              "      <th>0</th>\n",
              "      <td>former versace store clerk sues over secret 'b...</td>\n",
              "      <td>0</td>\n",
              "    </tr>\n",
              "    <tr>\n",
              "      <th>1</th>\n",
              "      <td>the 'roseanne' revival catches up to our thorn...</td>\n",
              "      <td>0</td>\n",
              "    </tr>\n",
              "    <tr>\n",
              "      <th>2</th>\n",
              "      <td>mom starting to fear son's web series closest ...</td>\n",
              "      <td>1</td>\n",
              "    </tr>\n",
              "    <tr>\n",
              "      <th>3</th>\n",
              "      <td>boehner just wants wife to listen, not come up...</td>\n",
              "      <td>1</td>\n",
              "    </tr>\n",
              "    <tr>\n",
              "      <th>4</th>\n",
              "      <td>j.k. rowling wishes snape happy birthday in th...</td>\n",
              "      <td>0</td>\n",
              "    </tr>\n",
              "  </tbody>\n",
              "</table>\n",
              "</div>\n",
              "      <button class=\"colab-df-convert\" onclick=\"convertToInteractive('df-f1954b2d-0dae-4b66-ad31-7a31304f29e8')\"\n",
              "              title=\"Convert this dataframe to an interactive table.\"\n",
              "              style=\"display:none;\">\n",
              "        \n",
              "  <svg xmlns=\"http://www.w3.org/2000/svg\" height=\"24px\"viewBox=\"0 0 24 24\"\n",
              "       width=\"24px\">\n",
              "    <path d=\"M0 0h24v24H0V0z\" fill=\"none\"/>\n",
              "    <path d=\"M18.56 5.44l.94 2.06.94-2.06 2.06-.94-2.06-.94-.94-2.06-.94 2.06-2.06.94zm-11 1L8.5 8.5l.94-2.06 2.06-.94-2.06-.94L8.5 2.5l-.94 2.06-2.06.94zm10 10l.94 2.06.94-2.06 2.06-.94-2.06-.94-.94-2.06-.94 2.06-2.06.94z\"/><path d=\"M17.41 7.96l-1.37-1.37c-.4-.4-.92-.59-1.43-.59-.52 0-1.04.2-1.43.59L10.3 9.45l-7.72 7.72c-.78.78-.78 2.05 0 2.83L4 21.41c.39.39.9.59 1.41.59.51 0 1.02-.2 1.41-.59l7.78-7.78 2.81-2.81c.8-.78.8-2.07 0-2.86zM5.41 20L4 18.59l7.72-7.72 1.47 1.35L5.41 20z\"/>\n",
              "  </svg>\n",
              "      </button>\n",
              "      \n",
              "  <style>\n",
              "    .colab-df-container {\n",
              "      display:flex;\n",
              "      flex-wrap:wrap;\n",
              "      gap: 12px;\n",
              "    }\n",
              "\n",
              "    .colab-df-convert {\n",
              "      background-color: #E8F0FE;\n",
              "      border: none;\n",
              "      border-radius: 50%;\n",
              "      cursor: pointer;\n",
              "      display: none;\n",
              "      fill: #1967D2;\n",
              "      height: 32px;\n",
              "      padding: 0 0 0 0;\n",
              "      width: 32px;\n",
              "    }\n",
              "\n",
              "    .colab-df-convert:hover {\n",
              "      background-color: #E2EBFA;\n",
              "      box-shadow: 0px 1px 2px rgba(60, 64, 67, 0.3), 0px 1px 3px 1px rgba(60, 64, 67, 0.15);\n",
              "      fill: #174EA6;\n",
              "    }\n",
              "\n",
              "    [theme=dark] .colab-df-convert {\n",
              "      background-color: #3B4455;\n",
              "      fill: #D2E3FC;\n",
              "    }\n",
              "\n",
              "    [theme=dark] .colab-df-convert:hover {\n",
              "      background-color: #434B5C;\n",
              "      box-shadow: 0px 1px 3px 1px rgba(0, 0, 0, 0.15);\n",
              "      filter: drop-shadow(0px 1px 2px rgba(0, 0, 0, 0.3));\n",
              "      fill: #FFFFFF;\n",
              "    }\n",
              "  </style>\n",
              "\n",
              "      <script>\n",
              "        const buttonEl =\n",
              "          document.querySelector('#df-f1954b2d-0dae-4b66-ad31-7a31304f29e8 button.colab-df-convert');\n",
              "        buttonEl.style.display =\n",
              "          google.colab.kernel.accessAllowed ? 'block' : 'none';\n",
              "\n",
              "        async function convertToInteractive(key) {\n",
              "          const element = document.querySelector('#df-f1954b2d-0dae-4b66-ad31-7a31304f29e8');\n",
              "          const dataTable =\n",
              "            await google.colab.kernel.invokeFunction('convertToInteractive',\n",
              "                                                     [key], {});\n",
              "          if (!dataTable) return;\n",
              "\n",
              "          const docLinkHtml = 'Like what you see? Visit the ' +\n",
              "            '<a target=\"_blank\" href=https://colab.research.google.com/notebooks/data_table.ipynb>data table notebook</a>'\n",
              "            + ' to learn more about interactive tables.';\n",
              "          element.innerHTML = '';\n",
              "          dataTable['output_type'] = 'display_data';\n",
              "          await google.colab.output.renderOutput(dataTable, element);\n",
              "          const docLink = document.createElement('div');\n",
              "          docLink.innerHTML = docLinkHtml;\n",
              "          element.appendChild(docLink);\n",
              "        }\n",
              "      </script>\n",
              "    </div>\n",
              "  </div>\n",
              "  "
            ]
          },
          "metadata": {},
          "execution_count": 27
        }
      ],
      "id": "fs-zHfd4grjE"
    },
    {
      "cell_type": "code",
      "execution_count": 28,
      "metadata": {
        "id": "AJKPfPuPgrjE"
      },
      "outputs": [],
      "source": [
        "num_words = set()\n",
        "max_news_len = []\n",
        "for row in range(sarcasm_df.shape[0]):\n",
        "    num_words = num_words | set((list(np.unique(sarcasm_df.text[row]))[0].split()))\n",
        "    max_news_len.append(len(sarcasm_df.text[row]))"
      ],
      "id": "AJKPfPuPgrjE"
    },
    {
      "cell_type": "code",
      "source": [
        "len(num_words)"
      ],
      "metadata": {
        "colab": {
          "base_uri": "https://localhost:8080/"
        },
        "outputId": "3d4800a4-6ee9-409c-d854-95ce0ba201a7",
        "id": "yqeXT_i_grjE"
      },
      "execution_count": 29,
      "outputs": [
        {
          "output_type": "execute_result",
          "data": {
            "text/plain": [
              "36599"
            ]
          },
          "metadata": {},
          "execution_count": 29
        }
      ],
      "id": "yqeXT_i_grjE"
    },
    {
      "cell_type": "code",
      "execution_count": 30,
      "metadata": {
        "colab": {
          "base_uri": "https://localhost:8080/"
        },
        "outputId": "5ae1e745-79ad-4ffc-b366-8c1bdf3ee73f",
        "id": "Sn5zLdlGgrjE"
      },
      "outputs": [
        {
          "output_type": "execute_result",
          "data": {
            "text/plain": [
              "61.0"
            ]
          },
          "metadata": {},
          "execution_count": 30
        }
      ],
      "source": [
        "np.median(max_news_len)"
      ],
      "id": "Sn5zLdlGgrjE"
    },
    {
      "cell_type": "code",
      "execution_count": 31,
      "metadata": {
        "id": "RTszImYUgrjE"
      },
      "outputs": [],
      "source": [
        "num_words = 20000\n",
        "max_news_len = 44\n",
        "nb_classes = 2"
      ],
      "id": "RTszImYUgrjE"
    },
    {
      "cell_type": "code",
      "source": [
        "X_train, X_test, y_train, y_test = train_test_split(sarcasm_df.text, y, test_size=0.3, random_state=42)"
      ],
      "metadata": {
        "id": "AeiixSjggrjF"
      },
      "execution_count": 32,
      "outputs": [],
      "id": "AeiixSjggrjF"
    },
    {
      "cell_type": "code",
      "source": [
        "y_train = utils.to_categorical(y_train, nb_classes)\n",
        "y_test = utils.to_categorical(y_test, nb_classes)\n",
        "y_train"
      ],
      "metadata": {
        "colab": {
          "base_uri": "https://localhost:8080/"
        },
        "outputId": "c3c70354-dd72-4382-fa4e-acd7b69dcac7",
        "id": "eX2rPksugrjF"
      },
      "execution_count": 33,
      "outputs": [
        {
          "output_type": "execute_result",
          "data": {
            "text/plain": [
              "array([[0., 1.],\n",
              "       [1., 0.],\n",
              "       [1., 0.],\n",
              "       ...,\n",
              "       [1., 0.],\n",
              "       [0., 1.],\n",
              "       [1., 0.]], dtype=float32)"
            ]
          },
          "metadata": {},
          "execution_count": 33
        }
      ],
      "id": "eX2rPksugrjF"
    },
    {
      "cell_type": "markdown",
      "source": [
        "#### Токенизация текста"
      ],
      "metadata": {
        "id": "Yc_bqqSTgrjF"
      },
      "id": "Yc_bqqSTgrjF"
    },
    {
      "cell_type": "markdown",
      "source": [
        "Создаем токенизатор Keras и Обучаем его на заголовках новостей"
      ],
      "metadata": {
        "id": "hTHDADa9grjF"
      },
      "id": "hTHDADa9grjF"
    },
    {
      "cell_type": "code",
      "source": [
        "tokenizer = Tokenizer(num_words=num_words)\n",
        "tokenizer.fit_on_texts(X_train)"
      ],
      "metadata": {
        "id": "0UsdZ1O4grjF"
      },
      "execution_count": 34,
      "outputs": [],
      "id": "0UsdZ1O4grjF"
    },
    {
      "cell_type": "markdown",
      "source": [
        "Преобразуем новости в числовое представление"
      ],
      "metadata": {
        "id": "GIzlXbjZgrjF"
      },
      "id": "GIzlXbjZgrjF"
    },
    {
      "cell_type": "code",
      "source": [
        "sequences = tokenizer.texts_to_sequences(X_train)\n",
        "test_sequences = tokenizer.texts_to_sequences(X_test)"
      ],
      "metadata": {
        "id": "pYsReBj5grjF"
      },
      "execution_count": 35,
      "outputs": [],
      "id": "pYsReBj5grjF"
    },
    {
      "cell_type": "markdown",
      "source": [
        "Ограничиваем длину заголовков"
      ],
      "metadata": {
        "id": "eCmiZgnhgrjF"
      },
      "id": "eCmiZgnhgrjF"
    },
    {
      "cell_type": "code",
      "source": [
        "x_train = pad_sequences(sequences, maxlen=max_news_len)\n",
        "x_test = pad_sequences(test_sequences, maxlen=max_news_len)"
      ],
      "metadata": {
        "id": "fE6Ou3kxgrjF"
      },
      "execution_count": 36,
      "outputs": [],
      "id": "fE6Ou3kxgrjF"
    },
    {
      "cell_type": "code",
      "source": [
        "x_train[:1]"
      ],
      "metadata": {
        "colab": {
          "base_uri": "https://localhost:8080/"
        },
        "outputId": "4115fbf6-bd58-40f5-a30c-06ec70b88c58",
        "id": "lLjl5BUIgrjF"
      },
      "execution_count": 37,
      "outputs": [
        {
          "output_type": "execute_result",
          "data": {
            "text/plain": [
              "array([[    0,     0,     0,     0,     0,     0,     0,     0,     0,\n",
              "            0,     0,     0,     0,     0,     0,     0,     0,     0,\n",
              "            0,     0,     0,     0,     0,     0,     0,     0,     0,\n",
              "            0,     0,     0,     0,     0,     0,   251,    90,  1769,\n",
              "          297,     1,  1575,   800,     2,  2111,    19, 12204]],\n",
              "      dtype=int32)"
            ]
          },
          "metadata": {},
          "execution_count": 37
        }
      ],
      "id": "lLjl5BUIgrjF"
    },
    {
      "cell_type": "code",
      "source": [],
      "metadata": {
        "id": "PSGPw7wrgrjF"
      },
      "execution_count": 37,
      "outputs": [],
      "id": "PSGPw7wrgrjF"
    },
    {
      "cell_type": "markdown",
      "source": [
        "### Сверточная нейронная сеть"
      ],
      "metadata": {
        "id": "gH2gIlHBgrjF"
      },
      "id": "gH2gIlHBgrjF"
    },
    {
      "cell_type": "code",
      "execution_count": 38,
      "metadata": {
        "id": "BSckkYLogrjF"
      },
      "outputs": [],
      "source": [
        "model_cnn = Sequential()\n",
        "model_cnn.add(Embedding(num_words, 32, input_length=max_news_len))\n",
        "model_cnn.add(Conv1D(250, 5, padding='valid', activation='relu'))\n",
        "model_cnn.add(GlobalMaxPooling1D())\n",
        "model_cnn.add(Dense(128, activation='relu'))\n",
        "model_cnn.add(Dense(2, activation='softmax'))"
      ],
      "id": "BSckkYLogrjF"
    },
    {
      "cell_type": "code",
      "execution_count": 39,
      "metadata": {
        "id": "WjEs1i8-grjF"
      },
      "outputs": [],
      "source": [
        "model_cnn.compile(optimizer='adam', \n",
        "              loss='categorical_crossentropy', \n",
        "              metrics=['accuracy'])"
      ],
      "id": "WjEs1i8-grjF"
    },
    {
      "cell_type": "code",
      "execution_count": 40,
      "metadata": {
        "colab": {
          "base_uri": "https://localhost:8080/"
        },
        "outputId": "f999b1a7-8e13-4725-e6bb-7319b96ee67c",
        "id": "4tfNjVxugrjG"
      },
      "outputs": [
        {
          "output_type": "stream",
          "name": "stdout",
          "text": [
            "Model: \"sequential\"\n",
            "_________________________________________________________________\n",
            " Layer (type)                Output Shape              Param #   \n",
            "=================================================================\n",
            " embedding (Embedding)       (None, 44, 32)            640000    \n",
            "                                                                 \n",
            " conv1d (Conv1D)             (None, 40, 250)           40250     \n",
            "                                                                 \n",
            " global_max_pooling1d (Globa  (None, 250)              0         \n",
            " lMaxPooling1D)                                                  \n",
            "                                                                 \n",
            " dense (Dense)               (None, 128)               32128     \n",
            "                                                                 \n",
            " dense_1 (Dense)             (None, 2)                 258       \n",
            "                                                                 \n",
            "=================================================================\n",
            "Total params: 712,636\n",
            "Trainable params: 712,636\n",
            "Non-trainable params: 0\n",
            "_________________________________________________________________\n"
          ]
        }
      ],
      "source": [
        "model_cnn.summary()"
      ],
      "id": "4tfNjVxugrjG"
    },
    {
      "cell_type": "markdown",
      "source": [
        "Создаем callback для сохранения нейронной сети на каждой эпохе, если качество работы на проверочном наборе данных улучшилось. Сеть сохраняется в файл `best_model.h5`"
      ],
      "metadata": {
        "id": "MDzmjur3grjG"
      },
      "id": "MDzmjur3grjG"
    },
    {
      "cell_type": "code",
      "execution_count": 41,
      "metadata": {
        "id": "Lz7zoudDgrjG"
      },
      "outputs": [],
      "source": [
        "model_cnn_save_path = 'best_model_cnn.h5'\n",
        "checkpoint_callback_cnn = ModelCheckpoint(model_cnn_save_path, \n",
        "                                      monitor='val_accuracy',\n",
        "                                      save_best_only=True,\n",
        "                                      verbose=1)"
      ],
      "id": "Lz7zoudDgrjG"
    },
    {
      "cell_type": "code",
      "execution_count": 42,
      "metadata": {
        "colab": {
          "base_uri": "https://localhost:8080/"
        },
        "outputId": "969d5c0d-63a3-4081-fb9e-4714094a4bc2",
        "id": "_nGoSl_ggrjG"
      },
      "outputs": [
        {
          "output_type": "stream",
          "name": "stdout",
          "text": [
            "Epoch 1/5\n",
            "131/132 [============================>.] - ETA: 0s - loss: 0.4717 - accuracy: 0.7557\n",
            "Epoch 1: val_accuracy improved from -inf to 0.86150, saving model to best_model_cnn.h5\n",
            "132/132 [==============================] - 10s 61ms/step - loss: 0.4712 - accuracy: 0.7561 - val_loss: 0.3225 - val_accuracy: 0.8615\n",
            "Epoch 2/5\n",
            "131/132 [============================>.] - ETA: 0s - loss: 0.1927 - accuracy: 0.9253\n",
            "Epoch 2: val_accuracy improved from 0.86150 to 0.87059, saving model to best_model_cnn.h5\n",
            "132/132 [==============================] - 8s 60ms/step - loss: 0.1928 - accuracy: 0.9253 - val_loss: 0.3402 - val_accuracy: 0.8706\n",
            "Epoch 3/5\n",
            "131/132 [============================>.] - ETA: 0s - loss: 0.0651 - accuracy: 0.9804\n",
            "Epoch 3: val_accuracy did not improve from 0.87059\n",
            "132/132 [==============================] - 7s 53ms/step - loss: 0.0656 - accuracy: 0.9803 - val_loss: 0.4817 - val_accuracy: 0.8561\n",
            "Epoch 4/5\n",
            "131/132 [============================>.] - ETA: 0s - loss: 0.0180 - accuracy: 0.9957\n",
            "Epoch 4: val_accuracy did not improve from 0.87059\n",
            "132/132 [==============================] - 7s 52ms/step - loss: 0.0179 - accuracy: 0.9957 - val_loss: 0.6282 - val_accuracy: 0.8513\n",
            "Epoch 5/5\n",
            "132/132 [==============================] - ETA: 0s - loss: 0.0040 - accuracy: 0.9993\n",
            "Epoch 5: val_accuracy did not improve from 0.87059\n",
            "132/132 [==============================] - 7s 56ms/step - loss: 0.0040 - accuracy: 0.9993 - val_loss: 0.7374 - val_accuracy: 0.8519\n"
          ]
        }
      ],
      "source": [
        "history_cnn = model_cnn.fit(x_train, \n",
        "                            y_train, \n",
        "                            epochs=5,\n",
        "                            batch_size=128,\n",
        "                            validation_split=0.1,\n",
        "                            callbacks=[checkpoint_callback_cnn])"
      ],
      "id": "_nGoSl_ggrjG"
    },
    {
      "cell_type": "code",
      "execution_count": 43,
      "metadata": {
        "colab": {
          "base_uri": "https://localhost:8080/",
          "height": 0
        },
        "outputId": "f9a6da9e-02e5-4750-b4ef-9e05b8dd7a1e",
        "id": "a0-K6RBpgrjG"
      },
      "outputs": [
        {
          "output_type": "display_data",
          "data": {
            "text/plain": [
              "<Figure size 640x480 with 1 Axes>"
            ],
            "image/png": "[encoded data removed]"
          },
          "metadata": {}
        }
      ],
      "source": [
        "plt.plot(history_cnn.history['accuracy'], \n",
        "         label='Доля верных ответов на обучающем наборе')\n",
        "plt.plot(history_cnn.history['val_accuracy'], \n",
        "         label='Доля верных ответов на проверочном наборе')\n",
        "plt.title('CNN-model')\n",
        "plt.xlabel('Эпоха обучения')\n",
        "plt.ylabel('Доля верных ответов')\n",
        "plt.legend()\n",
        "plt.show()"
      ],
      "id": "a0-K6RBpgrjG"
    },
    {
      "cell_type": "code",
      "execution_count": 43,
      "metadata": {
        "id": "9YKsJ9HxgrjG"
      },
      "outputs": [],
      "source": [],
      "id": "9YKsJ9HxgrjG"
    },
    {
      "cell_type": "code",
      "execution_count": 44,
      "metadata": {
        "colab": {
          "base_uri": "https://localhost:8080/"
        },
        "outputId": "95bacdb1-78a2-4f25-8576-0674dca5c04f",
        "id": "s3YnNoGAgrjG"
      },
      "outputs": [
        {
          "output_type": "stream",
          "name": "stdout",
          "text": [
            "251/251 [==============================] - 1s 5ms/step - loss: 0.3374 - accuracy: 0.8589\n"
          ]
        }
      ],
      "source": [
        "model_cnn.load_weights(model_cnn_save_path)\n",
        "cnn = model_cnn.evaluate(x_test, y_test, verbose=1)[1]\n"
      ],
      "id": "s3YnNoGAgrjG"
    },
    {
      "cell_type": "code",
      "source": [],
      "metadata": {
        "id": "k8f9A6mHgrjG"
      },
      "execution_count": 44,
      "outputs": [],
      "id": "k8f9A6mHgrjG"
    },
    {
      "cell_type": "markdown",
      "source": [
        "### Cеть LSTM"
      ],
      "metadata": {
        "id": "1YCkEBnsgrjG"
      },
      "id": "1YCkEBnsgrjG"
    },
    {
      "cell_type": "code",
      "execution_count": 45,
      "metadata": {
        "id": "3du8JGdGgrjG"
      },
      "outputs": [],
      "source": [
        "model_lstm = Sequential()\n",
        "model_lstm.add(Embedding(num_words, 32, input_length=max_news_len))\n",
        "model_lstm.add(LSTM(16))\n",
        "model_lstm.add(Dense(2, activation='softmax'))"
      ],
      "id": "3du8JGdGgrjG"
    },
    {
      "cell_type": "code",
      "execution_count": 46,
      "metadata": {
        "id": "JcNbHC4egrjG"
      },
      "outputs": [],
      "source": [
        "model_lstm.compile(optimizer='adam', \n",
        "              loss='categorical_crossentropy', \n",
        "              metrics=['accuracy'])"
      ],
      "id": "JcNbHC4egrjG"
    },
    {
      "cell_type": "code",
      "execution_count": 47,
      "metadata": {
        "colab": {
          "base_uri": "https://localhost:8080/"
        },
        "outputId": "64034c92-c4fe-4a30-8e3b-49f4f7c9ae1b",
        "id": "aVoGDjfhgrjG"
      },
      "outputs": [
        {
          "output_type": "stream",
          "name": "stdout",
          "text": [
            "Model: \"sequential_1\"\n",
            "_________________________________________________________________\n",
            " Layer (type)                Output Shape              Param #   \n",
            "=================================================================\n",
            " embedding_1 (Embedding)     (None, 44, 32)            640000    \n",
            "                                                                 \n",
            " lstm (LSTM)                 (None, 16)                3136      \n",
            "                                                                 \n",
            " dense_2 (Dense)             (None, 2)                 34        \n",
            "                                                                 \n",
            "=================================================================\n",
            "Total params: 643,170\n",
            "Trainable params: 643,170\n",
            "Non-trainable params: 0\n",
            "_________________________________________________________________\n"
          ]
        }
      ],
      "source": [
        "model_lstm.summary()\n"
      ],
      "id": "aVoGDjfhgrjG"
    },
    {
      "cell_type": "code",
      "execution_count": 48,
      "metadata": {
        "id": "u_NKEfrxgrjG"
      },
      "outputs": [],
      "source": [
        "model_lstm_save_path = 'best_model_lstm.h5'\n",
        "checkpoint_callback_lstm = ModelCheckpoint(model_lstm_save_path, \n",
        "                                      monitor='val_accuracy',\n",
        "                                      save_best_only=True,\n",
        "                                      verbose=1)"
      ],
      "id": "u_NKEfrxgrjG"
    },
    {
      "cell_type": "code",
      "execution_count": 49,
      "metadata": {
        "colab": {
          "base_uri": "https://localhost:8080/"
        },
        "outputId": "b7e1021e-9d4b-42d0-d87b-faff6779dffd",
        "id": "UOkCPYlMgrjH"
      },
      "outputs": [
        {
          "output_type": "stream",
          "name": "stdout",
          "text": [
            "Epoch 1/5\n",
            "131/132 [============================>.] - ETA: 0s - loss: 0.5538 - accuracy: 0.6954\n",
            "Epoch 1: val_accuracy improved from -inf to 0.85401, saving model to best_model_lstm.h5\n",
            "132/132 [==============================] - 9s 39ms/step - loss: 0.5534 - accuracy: 0.6958 - val_loss: 0.3598 - val_accuracy: 0.8540\n",
            "Epoch 2/5\n",
            "132/132 [==============================] - ETA: 0s - loss: 0.2578 - accuracy: 0.9021\n",
            "Epoch 2: val_accuracy improved from 0.85401 to 0.86791, saving model to best_model_lstm.h5\n",
            "132/132 [==============================] - 4s 34ms/step - loss: 0.2578 - accuracy: 0.9021 - val_loss: 0.3180 - val_accuracy: 0.8679\n",
            "Epoch 3/5\n",
            "132/132 [==============================] - ETA: 0s - loss: 0.1410 - accuracy: 0.9513\n",
            "Epoch 3: val_accuracy did not improve from 0.86791\n",
            "132/132 [==============================] - 6s 48ms/step - loss: 0.1410 - accuracy: 0.9513 - val_loss: 0.3618 - val_accuracy: 0.8615\n",
            "Epoch 4/5\n",
            "132/132 [==============================] - ETA: 0s - loss: 0.0805 - accuracy: 0.9754\n",
            "Epoch 4: val_accuracy did not improve from 0.86791\n",
            "132/132 [==============================] - 4s 33ms/step - loss: 0.0805 - accuracy: 0.9754 - val_loss: 0.4302 - val_accuracy: 0.8551\n",
            "Epoch 5/5\n",
            "132/132 [==============================] - ETA: 0s - loss: 0.0466 - accuracy: 0.9871\n",
            "Epoch 5: val_accuracy did not improve from 0.86791\n",
            "132/132 [==============================] - 4s 33ms/step - loss: 0.0466 - accuracy: 0.9871 - val_loss: 0.5200 - val_accuracy: 0.8465\n"
          ]
        }
      ],
      "source": [
        "history_lstm = model_lstm.fit(x_train, \n",
        "                              y_train, \n",
        "                              epochs=5,\n",
        "                              batch_size=128,\n",
        "                              validation_split=0.1,\n",
        "                              callbacks=[checkpoint_callback_lstm])"
      ],
      "id": "UOkCPYlMgrjH"
    },
    {
      "cell_type": "code",
      "source": [
        "plt.plot(history_lstm.history['accuracy'], \n",
        "         label='Доля верных ответов на обучающем наборе')\n",
        "plt.plot(history_lstm.history['val_accuracy'], \n",
        "         label='Доля верных ответов на проверочном наборе')\n",
        "plt.title('LSTM model')\n",
        "plt.xlabel('Эпоха обучения')\n",
        "plt.ylabel('Доля верных ответов')\n",
        "plt.legend()\n",
        "plt.show()"
      ],
      "metadata": {
        "colab": {
          "base_uri": "https://localhost:8080/",
          "height": 472
        },
        "outputId": "7aace7ee-4205-417f-9da2-09c3b6170433",
        "id": "t9TthwxdgrjH"
      },
      "execution_count": 50,
      "outputs": [
        {
          "output_type": "display_data",
          "data": {
            "text/plain": [
              "<Figure size 640x480 with 1 Axes>"
            ],
            "image/png": "[encoded data removed]"
          },
          "metadata": {}
        }
      ],
      "id": "t9TthwxdgrjH"
    },
    {
      "cell_type": "code",
      "execution_count": 51,
      "metadata": {
        "colab": {
          "base_uri": "https://localhost:8080/"
        },
        "outputId": "d3f89289-1956-4890-b933-91db307fc3b4",
        "id": "HDzwyIiggrjH"
      },
      "outputs": [
        {
          "output_type": "stream",
          "name": "stdout",
          "text": [
            "251/251 [==============================] - 2s 8ms/step - loss: 0.3329 - accuracy: 0.8610\n"
          ]
        }
      ],
      "source": [
        "model_lstm.load_weights(model_lstm_save_path)\n",
        "lstm = model_lstm.evaluate(x_test, y_test, verbose=1)[1]\n"
      ],
      "id": "HDzwyIiggrjH"
    },
    {
      "cell_type": "code",
      "execution_count": 52,
      "metadata": {
        "colab": {
          "base_uri": "https://localhost:8080/"
        },
        "outputId": "e2e328da-bdc7-491d-ff45-5f27fd3ac90a",
        "id": "9EC6xjm3grjH"
      },
      "outputs": [
        {
          "output_type": "stream",
          "name": "stdout",
          "text": [
            "251/251 [==============================] - 2s 7ms/step\n"
          ]
        }
      ],
      "source": [
        "y_lstm = model_lstm.predict(x_test)"
      ],
      "id": "9EC6xjm3grjH"
    },
    {
      "cell_type": "code",
      "execution_count": 53,
      "metadata": {
        "colab": {
          "base_uri": "https://localhost:8080/"
        },
        "outputId": "8e38643d-5427-44e1-8aab-0b5f44b36f67",
        "id": "92l7SdSigrjH"
      },
      "outputs": [
        {
          "output_type": "execute_result",
          "data": {
            "text/plain": [
              "array([[0.0325371 , 0.9674629 ],\n",
              "       [0.9739096 , 0.02609035],\n",
              "       [0.72135526, 0.2786447 ],\n",
              "       ...,\n",
              "       [0.11434574, 0.8856543 ],\n",
              "       [0.9442371 , 0.05576288],\n",
              "       [0.9921366 , 0.00786341]], dtype=float32)"
            ]
          },
          "metadata": {},
          "execution_count": 53
        }
      ],
      "source": [
        "y_lstm"
      ],
      "id": "92l7SdSigrjH"
    },
    {
      "cell_type": "code",
      "source": [],
      "metadata": {
        "id": "YZagw-UPgfys"
      },
      "id": "YZagw-UPgfys",
      "execution_count": 53,
      "outputs": []
    },
    {
      "cell_type": "markdown",
      "source": [
        "# С преобработкой"
      ],
      "metadata": {
        "id": "fB_2EugsgvSA"
      },
      "id": "fB_2EugsgvSA"
    },
    {
      "cell_type": "markdown",
      "source": [
        "## Preprocessing"
      ],
      "metadata": {
        "id": "X-dd0Q2I3vaM"
      },
      "id": "X-dd0Q2I3vaM"
    },
    {
      "cell_type": "markdown",
      "source": [
        "А теперь избавимся от лишних символов, слов и тд.\n",
        "\n",
        "Для этого сначала загрузим punkt, wordnet, stopwords из библиотеки nltk."
      ],
      "metadata": {
        "id": "DX1A_kbrnQxk"
      },
      "id": "DX1A_kbrnQxk"
    },
    {
      "cell_type": "code",
      "execution_count": 54,
      "metadata": {
        "colab": {
          "base_uri": "https://localhost:8080/"
        },
        "id": "5278e5e9",
        "outputId": "c428182e-ca65-44f7-c838-6bb4bf28a7a3"
      },
      "outputs": [
        {
          "output_type": "stream",
          "name": "stderr",
          "text": [
            "[nltk_data] Downloading package punkt to /root/nltk_data...\n",
            "[nltk_data]   Unzipping tokenizers/punkt.zip.\n",
            "[nltk_data] Downloading package wordnet to /root/nltk_data...\n",
            "[nltk_data] Downloading package stopwords to /root/nltk_data...\n",
            "[nltk_data]   Unzipping corpora/stopwords.zip.\n"
          ]
        }
      ],
      "source": [
        "nltk.download('punkt')\n",
        "nltk.download('wordnet')\n",
        "nltk.download('stopwords')\n",
        "\n",
        "stop_words = set(stopwords.words('english') + ['ha', 'wa', 'say', 'said'])\n",
        "lemmatizer = WordNetLemmatizer()"
      ],
      "id": "5278e5e9"
    },
    {
      "cell_type": "code",
      "execution_count": 55,
      "metadata": {
        "id": "73d3a69e"
      },
      "outputs": [],
      "source": [
        "def preprocess(text):\n",
        "    try:\n",
        "        text = list(filter(str.isalpha, word_tokenize(text.lower())))\n",
        "        text = list(lemmatizer.lemmatize(word) for word in text)\n",
        "        text = list(word for word in text if word not in stop_words)\n",
        "        return ' '.join(text)\n",
        "    except:\n",
        "        return 'Error'"
      ],
      "id": "73d3a69e"
    },
    {
      "cell_type": "code",
      "execution_count": 56,
      "metadata": {
        "id": "4017f0e0",
        "colab": {
          "base_uri": "https://localhost:8080/",
          "height": 206
        },
        "outputId": "3a0d5e3a-0048-45cb-f690-c54b593973a7"
      },
      "outputs": [
        {
          "output_type": "execute_result",
          "data": {
            "text/plain": [
              "                                                text  sarcasm  \\\n",
              "0  former versace store clerk sues over secret 'b...        0   \n",
              "1  the 'roseanne' revival catches up to our thorn...        0   \n",
              "2  mom starting to fear son's web series closest ...        1   \n",
              "3  boehner just wants wife to listen, not come up...        1   \n",
              "4  j.k. rowling wishes snape happy birthday in th...        0   \n",
              "\n",
              "                                        text_preproc  \n",
              "0  former versace store clerk sue secret code min...  \n",
              "1   revival catch thorny political mood better worse  \n",
              "2  mom starting fear son web series closest thing...  \n",
              "3     boehner want wife listen come alternative idea  \n",
              "4      rowling wish snape happy birthday magical way  "
            ],
            "text/html": [
              "\n",
              "  <div id=\"df-b4684e3a-1c40-4a84-9196-83d0d887b7e7\">\n",
              "    <div class=\"colab-df-container\">\n",
              "      <div>\n",
              "<style scoped>\n",
              "    .dataframe tbody tr th:only-of-type {\n",
              "        vertical-align: middle;\n",
              "    }\n",
              "\n",
              "    .dataframe tbody tr th {\n",
              "        vertical-align: top;\n",
              "    }\n",
              "\n",
              "    .dataframe thead th {\n",
              "        text-align: right;\n",
              "    }\n",
              "</style>\n",
              "<table border=\"1\" class=\"dataframe\">\n",
              "  <thead>\n",
              "    <tr style=\"text-align: right;\">\n",
              "      <th></th>\n",
              "      <th>text</th>\n",
              "      <th>sarcasm</th>\n",
              "      <th>text_preproc</th>\n",
              "    </tr>\n",
              "  </thead>\n",
              "  <tbody>\n",
              "    <tr>\n",
              "      <th>0</th>\n",
              "      <td>former versace store clerk sues over secret 'b...</td>\n",
              "      <td>0</td>\n",
              "      <td>former versace store clerk sue secret code min...</td>\n",
              "    </tr>\n",
              "    <tr>\n",
              "      <th>1</th>\n",
              "      <td>the 'roseanne' revival catches up to our thorn...</td>\n",
              "      <td>0</td>\n",
              "      <td>revival catch thorny political mood better worse</td>\n",
              "    </tr>\n",
              "    <tr>\n",
              "      <th>2</th>\n",
              "      <td>mom starting to fear son's web series closest ...</td>\n",
              "      <td>1</td>\n",
              "      <td>mom starting fear son web series closest thing...</td>\n",
              "    </tr>\n",
              "    <tr>\n",
              "      <th>3</th>\n",
              "      <td>boehner just wants wife to listen, not come up...</td>\n",
              "      <td>1</td>\n",
              "      <td>boehner want wife listen come alternative idea</td>\n",
              "    </tr>\n",
              "    <tr>\n",
              "      <th>4</th>\n",
              "      <td>j.k. rowling wishes snape happy birthday in th...</td>\n",
              "      <td>0</td>\n",
              "      <td>rowling wish snape happy birthday magical way</td>\n",
              "    </tr>\n",
              "  </tbody>\n",
              "</table>\n",
              "</div>\n",
              "      <button class=\"colab-df-convert\" onclick=\"convertToInteractive('df-b4684e3a-1c40-4a84-9196-83d0d887b7e7')\"\n",
              "              title=\"Convert this dataframe to an interactive table.\"\n",
              "              style=\"display:none;\">\n",
              "        \n",
              "  <svg xmlns=\"http://www.w3.org/2000/svg\" height=\"24px\"viewBox=\"0 0 24 24\"\n",
              "       width=\"24px\">\n",
              "    <path d=\"M0 0h24v24H0V0z\" fill=\"none\"/>\n",
              "    <path d=\"M18.56 5.44l.94 2.06.94-2.06 2.06-.94-2.06-.94-.94-2.06-.94 2.06-2.06.94zm-11 1L8.5 8.5l.94-2.06 2.06-.94-2.06-.94L8.5 2.5l-.94 2.06-2.06.94zm10 10l.94 2.06.94-2.06 2.06-.94-2.06-.94-.94-2.06-.94 2.06-2.06.94z\"/><path d=\"M17.41 7.96l-1.37-1.37c-.4-.4-.92-.59-1.43-.59-.52 0-1.04.2-1.43.59L10.3 9.45l-7.72 7.72c-.78.78-.78 2.05 0 2.83L4 21.41c.39.39.9.59 1.41.59.51 0 1.02-.2 1.41-.59l7.78-7.78 2.81-2.81c.8-.78.8-2.07 0-2.86zM5.41 20L4 18.59l7.72-7.72 1.47 1.35L5.41 20z\"/>\n",
              "  </svg>\n",
              "      </button>\n",
              "      \n",
              "  <style>\n",
              "    .colab-df-container {\n",
              "      display:flex;\n",
              "      flex-wrap:wrap;\n",
              "      gap: 12px;\n",
              "    }\n",
              "\n",
              "    .colab-df-convert {\n",
              "      background-color: #E8F0FE;\n",
              "      border: none;\n",
              "      border-radius: 50%;\n",
              "      cursor: pointer;\n",
              "      display: none;\n",
              "      fill: #1967D2;\n",
              "      height: 32px;\n",
              "      padding: 0 0 0 0;\n",
              "      width: 32px;\n",
              "    }\n",
              "\n",
              "    .colab-df-convert:hover {\n",
              "      background-color: #E2EBFA;\n",
              "      box-shadow: 0px 1px 2px rgba(60, 64, 67, 0.3), 0px 1px 3px 1px rgba(60, 64, 67, 0.15);\n",
              "      fill: #174EA6;\n",
              "    }\n",
              "\n",
              "    [theme=dark] .colab-df-convert {\n",
              "      background-color: #3B4455;\n",
              "      fill: #D2E3FC;\n",
              "    }\n",
              "\n",
              "    [theme=dark] .colab-df-convert:hover {\n",
              "      background-color: #434B5C;\n",
              "      box-shadow: 0px 1px 3px 1px rgba(0, 0, 0, 0.15);\n",
              "      filter: drop-shadow(0px 1px 2px rgba(0, 0, 0, 0.3));\n",
              "      fill: #FFFFFF;\n",
              "    }\n",
              "  </style>\n",
              "\n",
              "      <script>\n",
              "        const buttonEl =\n",
              "          document.querySelector('#df-b4684e3a-1c40-4a84-9196-83d0d887b7e7 button.colab-df-convert');\n",
              "        buttonEl.style.display =\n",
              "          google.colab.kernel.accessAllowed ? 'block' : 'none';\n",
              "\n",
              "        async function convertToInteractive(key) {\n",
              "          const element = document.querySelector('#df-b4684e3a-1c40-4a84-9196-83d0d887b7e7');\n",
              "          const dataTable =\n",
              "            await google.colab.kernel.invokeFunction('convertToInteractive',\n",
              "                                                     [key], {});\n",
              "          if (!dataTable) return;\n",
              "\n",
              "          const docLinkHtml = 'Like what you see? Visit the ' +\n",
              "            '<a target=\"_blank\" href=https://colab.research.google.com/notebooks/data_table.ipynb>data table notebook</a>'\n",
              "            + ' to learn more about interactive tables.';\n",
              "          element.innerHTML = '';\n",
              "          dataTable['output_type'] = 'display_data';\n",
              "          await google.colab.output.renderOutput(dataTable, element);\n",
              "          const docLink = document.createElement('div');\n",
              "          docLink.innerHTML = docLinkHtml;\n",
              "          element.appendChild(docLink);\n",
              "        }\n",
              "      </script>\n",
              "    </div>\n",
              "  </div>\n",
              "  "
            ]
          },
          "metadata": {},
          "execution_count": 56
        }
      ],
      "source": [
        "sarcasm_df['text_preproc'] = sarcasm_df.apply(lambda row: preprocess(row.text), axis=1)\n",
        "sarcasm_df.head()"
      ],
      "id": "4017f0e0"
    },
    {
      "cell_type": "code",
      "execution_count": 57,
      "metadata": {
        "colab": {
          "base_uri": "https://localhost:8080/"
        },
        "id": "ef9247d2",
        "outputId": "ad60f798-6d69-486c-bf45-069f70aacc83"
      },
      "outputs": [
        {
          "output_type": "execute_result",
          "data": {
            "text/plain": [
              "{' ',\n",
              " 'a',\n",
              " 'b',\n",
              " 'c',\n",
              " 'd',\n",
              " 'e',\n",
              " 'f',\n",
              " 'g',\n",
              " 'h',\n",
              " 'i',\n",
              " 'j',\n",
              " 'k',\n",
              " 'l',\n",
              " 'm',\n",
              " 'n',\n",
              " 'o',\n",
              " 'p',\n",
              " 'q',\n",
              " 'r',\n",
              " 's',\n",
              " 't',\n",
              " 'u',\n",
              " 'v',\n",
              " 'w',\n",
              " 'x',\n",
              " 'y',\n",
              " 'z',\n",
              " 'à',\n",
              " 'á',\n",
              " 'ã',\n",
              " 'ä',\n",
              " 'ç',\n",
              " 'é',\n",
              " 'ë',\n",
              " 'í',\n",
              " 'ï',\n",
              " 'ñ',\n",
              " 'ó',\n",
              " 'ö',\n",
              " 'ø',\n",
              " 'û',\n",
              " 'ü',\n",
              " 'ſ',\n",
              " 'ツ'}"
            ]
          },
          "metadata": {},
          "execution_count": 57
        }
      ],
      "source": [
        "set(''.join(sarcasm_df['text_preproc'].tolist()))"
      ],
      "id": "ef9247d2"
    },
    {
      "cell_type": "code",
      "execution_count": 58,
      "metadata": {
        "colab": {
          "base_uri": "https://localhost:8080/"
        },
        "id": "15c79a85",
        "outputId": "8a79c4d7-4c85-43d2-e0b9-a9e6e356ceb7"
      },
      "outputs": [
        {
          "output_type": "stream",
          "name": "stdout",
          "text": [
            "['café', 'café', 'bébé', 'décor', 'cüneyt', 'cliché', 'beyoncé', 'björk', 'éclairs', 'beyoncé', 'cáceres', 'résumé', 'misérables', 'café', 'timothée', 'nestlé', 'ツ', 'condé', 'café', 'appétit', 'déjeûner', 'são', 'rené', 'josé', 'andrés', 'résumé', 'beyoncé', 'beyoncé', 'bogotá', 'exposé', 'pasión', 'soirée', 'renée', 'renée', 'café', 'fiancé', 'motörhead', 'hispánico', 'chloë', 'beyoncé', 'virée', 'guantánamo', 'divorcée', 'bündchen', 'beyoncé', 'beyoncé', 'pelléas', 'mélisande', 'beyoncé', 'café', 'sørvágsvatn', 'jonbenét', 'garcía', 'márquez', 'denée', 'guantánamo', 'déjà', 'ünited', 'stätes', 'beyoncé', 'beyoncé', 'galápagos', 'sónar', 'maría', 'beyoncé', 'menéndez', 'galápagos', 'khloé', 'quinceañera', 'naïve', 'doppelgänger', 'détente', 'reggaetón', 'beyoncé', 'ragnarök', 'beyoncé', 'façade', 'fiancé', 'beyoncé', 'beyoncé', 'cafés', 'beyoncé', 'monáe', 'jalapeño', 'pokémon', 'résumé', 'déja', 'björk', 'condé', 'fiancé', 'voté', 'doppelgänger', 'résumé', 'américas', 'timothée', 'guantánamo', 'guantánamo', 'rosé', 'café', 'führer', 'khloé', 'beyoncé', 'mötley', 'crüe', 'beyoncé', 'miéville', 'inſurgency', 'cliché', 'beyoncé', 'beyoncé', 'café']\n"
          ]
        }
      ],
      "source": [
        "import re\n",
        "\n",
        "dataset = sarcasm_df['text_preproc'].tolist()\n",
        "\n",
        "# регулярное выражение для поиска слов, содержащих указанные символы\n",
        "pattern = re.compile(r\"\\b\\w*[àáâãäçèéëíîïðñóõöøúûüſツ]\\w*\\b\")\n",
        "\n",
        "# поиск слов в датасете, содержащих указанные символы\n",
        "words_with_symbols = []\n",
        "for text in dataset:\n",
        "    words_with_symbols += pattern.findall(text)\n",
        "\n",
        "print(words_with_symbols)"
      ],
      "id": "15c79a85"
    },
    {
      "cell_type": "markdown",
      "source": [
        "В принципе слов с символами обозначающие ударение или из специфических символов  не так много. Если результат предобработки окажется лучше, можно и их попробовать заменить."
      ],
      "metadata": {
        "id": "qUDHy1KboGyD"
      },
      "id": "qUDHy1KboGyD"
    },
    {
      "cell_type": "markdown",
      "source": [
        "Те же шаги что и в первой главе."
      ],
      "metadata": {
        "id": "BMZIiC7Ton8L"
      },
      "id": "BMZIiC7Ton8L"
    },
    {
      "cell_type": "code",
      "execution_count": 59,
      "metadata": {
        "id": "b3a201e1"
      },
      "outputs": [],
      "source": [
        "X = sarcasm_df.text_preproc\n",
        "y = sarcasm_df.sarcasm"
      ],
      "id": "b3a201e1"
    },
    {
      "cell_type": "code",
      "execution_count": 60,
      "metadata": {
        "id": "b071b85d"
      },
      "outputs": [],
      "source": [
        "vectorizer = TfidfVectorizer(max_features=10000)"
      ],
      "id": "b071b85d"
    },
    {
      "cell_type": "code",
      "execution_count": 61,
      "metadata": {
        "id": "eecd656d"
      },
      "outputs": [],
      "source": [
        "X_tfidf = vectorizer.fit_transform(X).toarray()"
      ],
      "id": "eecd656d"
    },
    {
      "cell_type": "code",
      "source": [
        "X_tfidf.shape"
      ],
      "metadata": {
        "colab": {
          "base_uri": "https://localhost:8080/"
        },
        "id": "HFKR9kqcnPvm",
        "outputId": "98380adf-accd-4b14-eade-2dc1d21e3745"
      },
      "id": "HFKR9kqcnPvm",
      "execution_count": 62,
      "outputs": [
        {
          "output_type": "execute_result",
          "data": {
            "text/plain": [
              "(26709, 10000)"
            ]
          },
          "metadata": {},
          "execution_count": 62
        }
      ]
    },
    {
      "cell_type": "code",
      "execution_count": 63,
      "metadata": {
        "id": "db5b574c"
      },
      "outputs": [],
      "source": [
        "X_train, X_test, y_train, y_test = train_test_split(X_tfidf, y, test_size=0.3, random_state=42)"
      ],
      "id": "db5b574c"
    },
    {
      "cell_type": "code",
      "source": [
        "X_tfidf.shape"
      ],
      "metadata": {
        "colab": {
          "base_uri": "https://localhost:8080/"
        },
        "id": "U84G1bZonAnv",
        "outputId": "9111871b-7b69-48c5-f537-09e258bf7e9c"
      },
      "id": "U84G1bZonAnv",
      "execution_count": 64,
      "outputs": [
        {
          "output_type": "execute_result",
          "data": {
            "text/plain": [
              "(26709, 10000)"
            ]
          },
          "metadata": {},
          "execution_count": 64
        }
      ]
    },
    {
      "cell_type": "code",
      "execution_count": 65,
      "metadata": {
        "colab": {
          "base_uri": "https://localhost:8080/"
        },
        "id": "56db4f40",
        "outputId": "97ca5de3-44e2-472d-eaf4-8c62a55db3f8"
      },
      "outputs": [
        {
          "output_type": "stream",
          "name": "stdout",
          "text": [
            "Разиер обучющей выборки: (18696, 10000)\n",
            "Разиер тестовой выборки: (8013, 10000)\n"
          ]
        }
      ],
      "source": [
        "print(f'Разиер обучющей выборки: {X_train.shape}')\n",
        "print(f'Разиер тестовой выборки: {X_test.shape}')"
      ],
      "id": "56db4f40"
    },
    {
      "cell_type": "code",
      "execution_count": 66,
      "metadata": {
        "id": "d807a6b1"
      },
      "outputs": [],
      "source": [
        "lr_preproc = LogisticRegression().fit(X_train, y_train)\n",
        "y_lr_preproc = lr_preproc.predict(X_test)"
      ],
      "id": "d807a6b1"
    },
    {
      "cell_type": "code",
      "execution_count": 67,
      "metadata": {
        "colab": {
          "base_uri": "https://localhost:8080/"
        },
        "id": "b0996462",
        "outputId": "848c1382-69bf-4020-fc54-9705acc5651c"
      },
      "outputs": [
        {
          "output_type": "execute_result",
          "data": {
            "text/plain": [
              "0.7813552976413328"
            ]
          },
          "metadata": {},
          "execution_count": 67
        }
      ],
      "source": [
        "acc_lr_preproc = accuracy_score(y_test, y_lr_preproc)\n",
        "acc_lr_preproc"
      ],
      "id": "b0996462"
    },
    {
      "cell_type": "markdown",
      "source": [
        "Точность стало на 0,1 ниже чем без преобработки, попробуем не удалять стоп слова, кавычки, !, ? и заменить буквы ударения (é) на обычные."
      ],
      "metadata": {
        "id": "wXrNhwcpZZV9"
      },
      "id": "wXrNhwcpZZV9"
    },
    {
      "cell_type": "markdown",
      "source": [
        "## Preprocessing 2.0"
      ],
      "metadata": {
        "id": "lGcDaar833FH"
      },
      "id": "lGcDaar833FH"
    },
    {
      "cell_type": "code",
      "source": [
        "sarcasm_df = Sarcasm[['headline', 'is_sarcastic']]\n",
        "sarcasm_df.columns = ['text', 'sarcasm']\n",
        "sarcasm_df.head()"
      ],
      "metadata": {
        "colab": {
          "base_uri": "https://localhost:8080/",
          "height": 206
        },
        "id": "CzxmmW5kx6g5",
        "outputId": "4b444df2-c5ac-4b9d-fed3-dfa0cad24b44"
      },
      "id": "CzxmmW5kx6g5",
      "execution_count": 82,
      "outputs": [
        {
          "output_type": "execute_result",
          "data": {
            "text/plain": [
              "                                                text  sarcasm\n",
              "0  former versace store clerk sues over secret 'b...        0\n",
              "1  the 'roseanne' revival catches up to our thorn...        0\n",
              "2  mom starting to fear son's web series closest ...        1\n",
              "3  boehner just wants wife to listen, not come up...        1\n",
              "4  j.k. rowling wishes snape happy birthday in th...        0"
            ],
            "text/html": [
              "\n",
              "  <div id=\"df-ed445bda-6d26-48a3-9d19-5c1f81187470\">\n",
              "    <div class=\"colab-df-container\">\n",
              "      <div>\n",
              "<style scoped>\n",
              "    .dataframe tbody tr th:only-of-type {\n",
              "        vertical-align: middle;\n",
              "    }\n",
              "\n",
              "    .dataframe tbody tr th {\n",
              "        vertical-align: top;\n",
              "    }\n",
              "\n",
              "    .dataframe thead th {\n",
              "        text-align: right;\n",
              "    }\n",
              "</style>\n",
              "<table border=\"1\" class=\"dataframe\">\n",
              "  <thead>\n",
              "    <tr style=\"text-align: right;\">\n",
              "      <th></th>\n",
              "      <th>text</th>\n",
              "      <th>sarcasm</th>\n",
              "    </tr>\n",
              "  </thead>\n",
              "  <tbody>\n",
              "    <tr>\n",
              "      <th>0</th>\n",
              "      <td>former versace store clerk sues over secret 'b...</td>\n",
              "      <td>0</td>\n",
              "    </tr>\n",
              "    <tr>\n",
              "      <th>1</th>\n",
              "      <td>the 'roseanne' revival catches up to our thorn...</td>\n",
              "      <td>0</td>\n",
              "    </tr>\n",
              "    <tr>\n",
              "      <th>2</th>\n",
              "      <td>mom starting to fear son's web series closest ...</td>\n",
              "      <td>1</td>\n",
              "    </tr>\n",
              "    <tr>\n",
              "      <th>3</th>\n",
              "      <td>boehner just wants wife to listen, not come up...</td>\n",
              "      <td>1</td>\n",
              "    </tr>\n",
              "    <tr>\n",
              "      <th>4</th>\n",
              "      <td>j.k. rowling wishes snape happy birthday in th...</td>\n",
              "      <td>0</td>\n",
              "    </tr>\n",
              "  </tbody>\n",
              "</table>\n",
              "</div>\n",
              "      <button class=\"colab-df-convert\" onclick=\"convertToInteractive('df-ed445bda-6d26-48a3-9d19-5c1f81187470')\"\n",
              "              title=\"Convert this dataframe to an interactive table.\"\n",
              "              style=\"display:none;\">\n",
              "        \n",
              "  <svg xmlns=\"http://www.w3.org/2000/svg\" height=\"24px\"viewBox=\"0 0 24 24\"\n",
              "       width=\"24px\">\n",
              "    <path d=\"M0 0h24v24H0V0z\" fill=\"none\"/>\n",
              "    <path d=\"M18.56 5.44l.94 2.06.94-2.06 2.06-.94-2.06-.94-.94-2.06-.94 2.06-2.06.94zm-11 1L8.5 8.5l.94-2.06 2.06-.94-2.06-.94L8.5 2.5l-.94 2.06-2.06.94zm10 10l.94 2.06.94-2.06 2.06-.94-2.06-.94-.94-2.06-.94 2.06-2.06.94z\"/><path d=\"M17.41 7.96l-1.37-1.37c-.4-.4-.92-.59-1.43-.59-.52 0-1.04.2-1.43.59L10.3 9.45l-7.72 7.72c-.78.78-.78 2.05 0 2.83L4 21.41c.39.39.9.59 1.41.59.51 0 1.02-.2 1.41-.59l7.78-7.78 2.81-2.81c.8-.78.8-2.07 0-2.86zM5.41 20L4 18.59l7.72-7.72 1.47 1.35L5.41 20z\"/>\n",
              "  </svg>\n",
              "      </button>\n",
              "      \n",
              "  <style>\n",
              "    .colab-df-container {\n",
              "      display:flex;\n",
              "      flex-wrap:wrap;\n",
              "      gap: 12px;\n",
              "    }\n",
              "\n",
              "    .colab-df-convert {\n",
              "      background-color: #E8F0FE;\n",
              "      border: none;\n",
              "      border-radius: 50%;\n",
              "      cursor: pointer;\n",
              "      display: none;\n",
              "      fill: #1967D2;\n",
              "      height: 32px;\n",
              "      padding: 0 0 0 0;\n",
              "      width: 32px;\n",
              "    }\n",
              "\n",
              "    .colab-df-convert:hover {\n",
              "      background-color: #E2EBFA;\n",
              "      box-shadow: 0px 1px 2px rgba(60, 64, 67, 0.3), 0px 1px 3px 1px rgba(60, 64, 67, 0.15);\n",
              "      fill: #174EA6;\n",
              "    }\n",
              "\n",
              "    [theme=dark] .colab-df-convert {\n",
              "      background-color: #3B4455;\n",
              "      fill: #D2E3FC;\n",
              "    }\n",
              "\n",
              "    [theme=dark] .colab-df-convert:hover {\n",
              "      background-color: #434B5C;\n",
              "      box-shadow: 0px 1px 3px 1px rgba(0, 0, 0, 0.15);\n",
              "      filter: drop-shadow(0px 1px 2px rgba(0, 0, 0, 0.3));\n",
              "      fill: #FFFFFF;\n",
              "    }\n",
              "  </style>\n",
              "\n",
              "      <script>\n",
              "        const buttonEl =\n",
              "          document.querySelector('#df-ed445bda-6d26-48a3-9d19-5c1f81187470 button.colab-df-convert');\n",
              "        buttonEl.style.display =\n",
              "          google.colab.kernel.accessAllowed ? 'block' : 'none';\n",
              "\n",
              "        async function convertToInteractive(key) {\n",
              "          const element = document.querySelector('#df-ed445bda-6d26-48a3-9d19-5c1f81187470');\n",
              "          const dataTable =\n",
              "            await google.colab.kernel.invokeFunction('convertToInteractive',\n",
              "                                                     [key], {});\n",
              "          if (!dataTable) return;\n",
              "\n",
              "          const docLinkHtml = 'Like what you see? Visit the ' +\n",
              "            '<a target=\"_blank\" href=https://colab.research.google.com/notebooks/data_table.ipynb>data table notebook</a>'\n",
              "            + ' to learn more about interactive tables.';\n",
              "          element.innerHTML = '';\n",
              "          dataTable['output_type'] = 'display_data';\n",
              "          await google.colab.output.renderOutput(dataTable, element);\n",
              "          const docLink = document.createElement('div');\n",
              "          docLink.innerHTML = docLinkHtml;\n",
              "          element.appendChild(docLink);\n",
              "        }\n",
              "      </script>\n",
              "    </div>\n",
              "  </div>\n",
              "  "
            ]
          },
          "metadata": {},
          "execution_count": 82
        }
      ]
    },
    {
      "cell_type": "code",
      "source": [
        "dic = {\n",
        "       'à': 'a', \n",
        "       'á': 'a', \n",
        "       'ã': 'a', \n",
        "       'ä': 'a', \n",
        "       'ë': 'e', \n",
        "       'é': 'e', \n",
        "       'í': 'i', \n",
        "       'ï': 'i', \n",
        "       '¡': 'i', \n",
        "       'ñ': 'n', \n",
        "       'ó': 'o', \n",
        "       'ö': 'o', \n",
        "       'û': 'u', \n",
        "       'ü': 'u', \n",
        "       '*': '', \n",
        "       '\\x97': '', \n",
        "       '\\x99': '', \n",
        "       '\\xa0': '', \n",
        "       '[': '', \n",
        "       '\\u200a': '', \n",
        "       '\\u200b': '', \n",
        "       '–': '', \n",
        "       '°': '', \n",
        "       '™': '', \n",
        "       'λ': '', \n",
        "       'ſ': '', \n",
        "       'ø': '', \n",
        "       'ç': '', \n",
        "       '×': '', \n",
        "       '#': '', \n",
        "       '$': '', \n",
        "       '%': '', \n",
        "       '&': '', \n",
        "       '+': '', \n",
        "       '/': '', \n",
        "       ';': '', \n",
        "       '<': '', \n",
        "       '=': '', \n",
        "       '>': '', \n",
        "       '@': '', \n",
        "       '\\\\': '', \n",
        "       ']': '', \n",
        "       '^': '', \n",
        "       '{': '', \n",
        "       '|': '',\n",
        "       '}': '', \n",
        "       '~': '', \n",
        "       '1': '', \n",
        "       '2': '', \n",
        "       '3': '', \n",
        "       '4': '', \n",
        "       '5': '', \n",
        "       '6': '', \n",
        "       '7': '', \n",
        "       '8': '', \n",
        "       '9': '', \n",
        "       '0': '' \n",
        "      }\n"
      ],
      "metadata": {
        "colab": {
          "base_uri": "https://localhost:8080/"
        },
        "id": "yoBUUFXgxRMg",
        "outputId": "ee4b8aa2-d6cc-4d33-ea98-3942686f2035"
      },
      "id": "yoBUUFXgxRMg",
      "execution_count": 83,
      "outputs": [
        {
          "output_type": "stream",
          "name": "stdout",
          "text": [
            "{'à': 'a', 'á': 'a', 'ã': 'a', 'ä': 'a', 'ë': 'e', 'é': 'e', 'í': 'i', 'ï': 'i', '¡': 'i', 'ñ': 'n', 'ó': 'o', 'ö': 'o', 'û': 'u', 'ü': 'u', '*': '', '\\x97': '', '\\x99': '', '\\xa0': '', '[': '', '\\u200a': '', '\\u200b': '', '–': '', '°': '', '™': '', 'λ': '', 'ſ': '', 'ø': '', 'ç': '', '×': '', '#': '', '$': '', '%': '', '&': '', '+': '', '/': '', ';': '', '<': '', '=': '', '>': '', '@': '', '\\\\': '', ']': '', '^': '', '{': '', '|': '', '}': '', '~': '', '1': '', '2': '', '3': '', '4': '', '5': '', '6': '', '7': '', '8': '', '9': '', '0': ''}\n"
          ]
        }
      ]
    },
    {
      "cell_type": "code",
      "source": [
        "def clean_text(text):\n",
        "    table = str.maketrans(dic)\n",
        "    text = text.translate(table)\n",
        "    return text"
      ],
      "metadata": {
        "id": "8mz2yNsuZ6WW"
      },
      "id": "8mz2yNsuZ6WW",
      "execution_count": 84,
      "outputs": []
    },
    {
      "cell_type": "code",
      "source": [
        "sarcasm_df.text = sarcasm_df.text.apply(clean_text)"
      ],
      "metadata": {
        "id": "AKVHiclLZ6Qd"
      },
      "id": "AKVHiclLZ6Qd",
      "execution_count": 85,
      "outputs": []
    },
    {
      "cell_type": "code",
      "execution_count": 87,
      "metadata": {
        "id": "U3ZjOQRraHfs"
      },
      "outputs": [],
      "source": [
        "X = sarcasm_df.text\n",
        "y = sarcasm_df.sarcasm"
      ],
      "id": "U3ZjOQRraHfs"
    },
    {
      "cell_type": "code",
      "execution_count": 88,
      "metadata": {
        "id": "ORShSk-yaHft"
      },
      "outputs": [],
      "source": [
        "vectorizer = TfidfVectorizer(max_features=10000)"
      ],
      "id": "ORShSk-yaHft"
    },
    {
      "cell_type": "code",
      "execution_count": 89,
      "metadata": {
        "id": "pMTHooxkaHft"
      },
      "outputs": [],
      "source": [
        "X_tfidf = vectorizer.fit_transform(X).toarray()"
      ],
      "id": "pMTHooxkaHft"
    },
    {
      "cell_type": "code",
      "source": [
        "X_tfidf.shape"
      ],
      "metadata": {
        "colab": {
          "base_uri": "https://localhost:8080/"
        },
        "outputId": "76122cfb-81c1-4450-bc1a-a6257aaa2846",
        "id": "UZ2iOy1uaHft"
      },
      "execution_count": 90,
      "outputs": [
        {
          "output_type": "execute_result",
          "data": {
            "text/plain": [
              "(26709, 10000)"
            ]
          },
          "metadata": {},
          "execution_count": 90
        }
      ],
      "id": "UZ2iOy1uaHft"
    },
    {
      "cell_type": "code",
      "execution_count": 91,
      "metadata": {
        "id": "rMMTZ2l0aHft"
      },
      "outputs": [],
      "source": [
        "X_train, X_test, y_train, y_test = train_test_split(X_tfidf, y, test_size=0.3, random_state=42)"
      ],
      "id": "rMMTZ2l0aHft"
    },
    {
      "cell_type": "code",
      "source": [
        "X_tfidf.shape"
      ],
      "metadata": {
        "colab": {
          "base_uri": "https://localhost:8080/"
        },
        "outputId": "c11fcc11-edce-4325-969c-65aac7925b57",
        "id": "Cs2AHCZiaHft"
      },
      "execution_count": 92,
      "outputs": [
        {
          "output_type": "execute_result",
          "data": {
            "text/plain": [
              "(26709, 10000)"
            ]
          },
          "metadata": {},
          "execution_count": 92
        }
      ],
      "id": "Cs2AHCZiaHft"
    },
    {
      "cell_type": "code",
      "execution_count": 93,
      "metadata": {
        "colab": {
          "base_uri": "https://localhost:8080/"
        },
        "outputId": "edd0539a-f24d-4e9b-88c0-39a8a45e200b",
        "id": "At1LM5hHaHft"
      },
      "outputs": [
        {
          "output_type": "stream",
          "name": "stdout",
          "text": [
            "Разиер обучющей выборки: (18696, 10000)\n",
            "Разиер тестовой выборки: (8013, 10000)\n"
          ]
        }
      ],
      "source": [
        "print(f'Разиер обучющей выборки: {X_train.shape}')\n",
        "print(f'Разиер тестовой выборки: {X_test.shape}')"
      ],
      "id": "At1LM5hHaHft"
    },
    {
      "cell_type": "markdown",
      "source": [
        "## LogisticRegression"
      ],
      "metadata": {
        "id": "UBfpxT23yXrR"
      },
      "id": "UBfpxT23yXrR"
    },
    {
      "cell_type": "code",
      "execution_count": 94,
      "metadata": {
        "id": "9zozBvdZaHft"
      },
      "outputs": [],
      "source": [
        "lr_preproc = LogisticRegression().fit(X_train, y_train)\n",
        "y_lr_preproc = lr_preproc.predict(X_test)"
      ],
      "id": "9zozBvdZaHft"
    },
    {
      "cell_type": "code",
      "execution_count": 95,
      "metadata": {
        "colab": {
          "base_uri": "https://localhost:8080/"
        },
        "outputId": "e31e3b6b-b620-449c-9408-53f8168a1b6c",
        "id": "RJX9PNsKaHfu"
      },
      "outputs": [
        {
          "output_type": "execute_result",
          "data": {
            "text/plain": [
              "0.8452514663671534"
            ]
          },
          "metadata": {},
          "execution_count": 95
        }
      ],
      "source": [
        "acc_lr_preproc = accuracy_score(y_test, y_lr_preproc)\n",
        "acc_lr_preproc"
      ],
      "id": "RJX9PNsKaHfu"
    },
    {
      "cell_type": "code",
      "source": [],
      "metadata": {
        "id": "eE03_hMoZ598"
      },
      "id": "eE03_hMoZ598",
      "execution_count": 95,
      "outputs": []
    },
    {
      "cell_type": "markdown",
      "source": [
        "## RandomForestClassifier"
      ],
      "metadata": {
        "id": "4v7nXadlyOdr"
      },
      "id": "4v7nXadlyOdr"
    },
    {
      "cell_type": "code",
      "execution_count": 96,
      "metadata": {
        "colab": {
          "base_uri": "https://localhost:8080/"
        },
        "id": "7802da55",
        "outputId": "fb87e884-539e-4bcc-b03c-d7002bb678c6"
      },
      "outputs": [
        {
          "output_type": "execute_result",
          "data": {
            "text/plain": [
              "0.8050667665044303"
            ]
          },
          "metadata": {},
          "execution_count": 96
        }
      ],
      "source": [
        "rfc_preproc = RandomForestClassifier(n_estimators=100).fit(X_train, y_train)\n",
        "\n",
        "y_rfc_preproc = rfc_preproc.predict(X_test)\n",
        "\n",
        "acc_rfc_preproc = accuracy_score(y_test, y_rfc)\n",
        "acc_rfc_preproc"
      ],
      "id": "7802da55"
    },
    {
      "cell_type": "code",
      "execution_count": 97,
      "metadata": {
        "id": "a1c86fef"
      },
      "outputs": [],
      "source": [
        "# svm_preproc = SVC().fit(X_train, y_train)\n",
        "\n",
        "# y_svm_preproc = svm_preproc.predict(X_test)\n",
        "\n",
        "# acc_svm_preproc = accuracy_score(y_test, y_svm_preproc)\n",
        "# acc_svm_preproc"
      ],
      "id": "a1c86fef"
    },
    {
      "cell_type": "code",
      "source": [
        "# fpr, tpr, thresholds = metrics.roc_curve(y_test, y_svm_preproc)\n",
        "# roc_auc = metrics.auc(fpr, tpr)\n",
        "# display = metrics.RocCurveDisplay(fpr=fpr, tpr=tpr, roc_auc=roc_auc,\n",
        "#                                    estimator_name='example estimator')\n",
        "# display.plot()\n",
        "\n",
        "# plt.show()"
      ],
      "metadata": {
        "id": "ZMrro4Y0O83s"
      },
      "id": "ZMrro4Y0O83s",
      "execution_count": 98,
      "outputs": []
    },
    {
      "cell_type": "code",
      "execution_count": 99,
      "metadata": {
        "id": "1fd4d406"
      },
      "outputs": [],
      "source": [
        "# xg_preproc = XGBClassifier().fit(X_train, y_train)\n",
        "# y_xg_preproc = xg_preproc.predict(X_test)\n",
        "\n",
        "# acc_xg_preproc = accuracy_score(y_test, y_xg_preproc)\n",
        "# acc_xg_preproc"
      ],
      "id": "1fd4d406"
    },
    {
      "cell_type": "code",
      "source": [],
      "metadata": {
        "id": "zkVA-cMQwP1f"
      },
      "id": "zkVA-cMQwP1f",
      "execution_count": 99,
      "outputs": []
    },
    {
      "cell_type": "markdown",
      "source": [
        "## Нейронные сети"
      ],
      "metadata": {
        "id": "t0F6E-__wQXY"
      },
      "id": "t0F6E-__wQXY"
    },
    {
      "cell_type": "markdown",
      "source": [
        "### Немного предобработки"
      ],
      "metadata": {
        "id": "byfU1Cb-v8zu"
      },
      "id": "byfU1Cb-v8zu"
    },
    {
      "cell_type": "code",
      "source": [
        "X_train, X_test, y_train, y_test = train_test_split(sarcasm_df.text, y, test_size=0.3, random_state=42)\n"
      ],
      "metadata": {
        "id": "Ny9k_STktSrx"
      },
      "id": "Ny9k_STktSrx",
      "execution_count": 132,
      "outputs": []
    },
    {
      "cell_type": "code",
      "source": [
        "y_train = utils.to_categorical(y_train, nb_classes)\n",
        "y_test = utils.to_categorical(y_test, nb_classes)\n",
        "y_train"
      ],
      "metadata": {
        "colab": {
          "base_uri": "https://localhost:8080/"
        },
        "id": "VvrkZmmtmNEw",
        "outputId": "0eb79320-35ea-4682-d142-fb88943cddb0"
      },
      "id": "VvrkZmmtmNEw",
      "execution_count": 133,
      "outputs": [
        {
          "output_type": "execute_result",
          "data": {
            "text/plain": [
              "array([[0., 1.],\n",
              "       [1., 0.],\n",
              "       [1., 0.],\n",
              "       ...,\n",
              "       [1., 0.],\n",
              "       [0., 1.],\n",
              "       [1., 0.]], dtype=float32)"
            ]
          },
          "metadata": {},
          "execution_count": 133
        }
      ]
    },
    {
      "cell_type": "markdown",
      "source": [
        "### Токенизация текста"
      ],
      "metadata": {
        "id": "meoIULskwi-u"
      },
      "id": "meoIULskwi-u"
    },
    {
      "cell_type": "markdown",
      "source": [
        "Создаем токенизатор Keras и Обучаем его на заголовках новостей"
      ],
      "metadata": {
        "id": "wFXPegKUwp_8"
      },
      "id": "wFXPegKUwp_8"
    },
    {
      "cell_type": "code",
      "source": [
        "tokenizer = Tokenizer(num_words=num_words)\n",
        "tokenizer.fit_on_texts(X_train)"
      ],
      "metadata": {
        "id": "dHtYmO_omX_w"
      },
      "id": "dHtYmO_omX_w",
      "execution_count": 104,
      "outputs": []
    },
    {
      "cell_type": "markdown",
      "source": [
        "Преобразуем новости в числовое представление"
      ],
      "metadata": {
        "id": "p6I0sjOVw3fj"
      },
      "id": "p6I0sjOVw3fj"
    },
    {
      "cell_type": "code",
      "source": [
        "sequences = tokenizer.texts_to_sequences(X_train)\n",
        "test_sequences = tokenizer.texts_to_sequences(X_test)"
      ],
      "metadata": {
        "id": "ZWsp5viymM3F"
      },
      "id": "ZWsp5viymM3F",
      "execution_count": 105,
      "outputs": []
    },
    {
      "cell_type": "markdown",
      "source": [
        "Ограничиваем длину заголовков"
      ],
      "metadata": {
        "id": "keMykQcfw8d8"
      },
      "id": "keMykQcfw8d8"
    },
    {
      "cell_type": "code",
      "source": [
        "x_train = pad_sequences(sequences, maxlen=max_news_len)\n",
        "x_test = pad_sequences(test_sequences, maxlen=max_news_len)"
      ],
      "metadata": {
        "id": "kR-JjAj5mx9b"
      },
      "id": "kR-JjAj5mx9b",
      "execution_count": 106,
      "outputs": []
    },
    {
      "cell_type": "code",
      "source": [
        "x_train[:1]"
      ],
      "metadata": {
        "colab": {
          "base_uri": "https://localhost:8080/"
        },
        "id": "K3ndT3pPmx6m",
        "outputId": "7157a722-ad42-47ff-be56-f747848500e3"
      },
      "id": "K3ndT3pPmx6m",
      "execution_count": 107,
      "outputs": [
        {
          "output_type": "execute_result",
          "data": {
            "text/plain": [
              "array([[   0,    0,    0,    0,    0,    0,    0,    0,    0,    0,    0,\n",
              "           0,    0,    0,    0,    0,    0,    0,    0,    0,    0,    0,\n",
              "           0,    0,    0,    0,    0,    0,    0,    0,    0,    0,    0,\n",
              "           0,  240,   89, 1738,  284,    1, 1543,  779,    2, 2077,   19]],\n",
              "      dtype=int32)"
            ]
          },
          "metadata": {},
          "execution_count": 107
        }
      ]
    },
    {
      "cell_type": "code",
      "source": [],
      "metadata": {
        "id": "ii7twSuZmx35"
      },
      "id": "ii7twSuZmx35",
      "execution_count": 107,
      "outputs": []
    },
    {
      "cell_type": "markdown",
      "source": [
        "### Сверточная нейронная сеть"
      ],
      "metadata": {
        "id": "DAVjNstNv59l"
      },
      "id": "DAVjNstNv59l"
    },
    {
      "cell_type": "code",
      "execution_count": 108,
      "metadata": {
        "id": "6a73c5b3"
      },
      "outputs": [],
      "source": [
        "model_cnn_preproc = Sequential()\n",
        "model_cnn_preproc.add(Embedding(num_words, 32, input_length=max_news_len))\n",
        "model_cnn_preproc.add(Conv1D(250, 5, padding='valid', activation='relu'))\n",
        "model_cnn_preproc.add(GlobalMaxPooling1D())\n",
        "model_cnn_preproc.add(Dense(128, activation='relu'))\n",
        "model_cnn_preproc.add(Dense(2, activation='softmax'))"
      ],
      "id": "6a73c5b3"
    },
    {
      "cell_type": "code",
      "execution_count": 109,
      "metadata": {
        "id": "72449972"
      },
      "outputs": [],
      "source": [
        "model_cnn_preproc.compile(optimizer='adam', \n",
        "              loss='categorical_crossentropy', \n",
        "              metrics=['accuracy'])"
      ],
      "id": "72449972"
    },
    {
      "cell_type": "code",
      "execution_count": 110,
      "metadata": {
        "id": "2ce607b4",
        "colab": {
          "base_uri": "https://localhost:8080/"
        },
        "outputId": "3acab4e4-d294-4b94-971d-cbc8e3399931"
      },
      "outputs": [
        {
          "output_type": "stream",
          "name": "stdout",
          "text": [
            "Model: \"sequential_2\"\n",
            "_________________________________________________________________\n",
            " Layer (type)                Output Shape              Param #   \n",
            "=================================================================\n",
            " embedding_2 (Embedding)     (None, 44, 32)            640000    \n",
            "                                                                 \n",
            " conv1d_1 (Conv1D)           (None, 40, 250)           40250     \n",
            "                                                                 \n",
            " global_max_pooling1d_1 (Glo  (None, 250)              0         \n",
            " balMaxPooling1D)                                                \n",
            "                                                                 \n",
            " dense_3 (Dense)             (None, 128)               32128     \n",
            "                                                                 \n",
            " dense_4 (Dense)             (None, 2)                 258       \n",
            "                                                                 \n",
            "=================================================================\n",
            "Total params: 712,636\n",
            "Trainable params: 712,636\n",
            "Non-trainable params: 0\n",
            "_________________________________________________________________\n"
          ]
        }
      ],
      "source": [
        "model_cnn_preproc.summary()"
      ],
      "id": "2ce607b4"
    },
    {
      "cell_type": "markdown",
      "source": [
        "Создаем callback для сохранения нейронной сети на каждой эпохе, если качество работы на проверочном наборе данных улучшилось. Сеть сохраняется в файл `best_model.h5`"
      ],
      "metadata": {
        "id": "QpHLSImWzp0c"
      },
      "id": "QpHLSImWzp0c"
    },
    {
      "cell_type": "code",
      "execution_count": 111,
      "metadata": {
        "id": "692d1901"
      },
      "outputs": [],
      "source": [
        "model_cnn_preproc_save_path = 'best_model_cnn.h5'\n",
        "checkpoint_callback_cnn = ModelCheckpoint(model_cnn_preproc_save_path, \n",
        "                                      monitor='val_accuracy',\n",
        "                                      save_best_only=True,\n",
        "                                      verbose=1)"
      ],
      "id": "692d1901"
    },
    {
      "cell_type": "code",
      "execution_count": 112,
      "metadata": {
        "id": "360576a9",
        "colab": {
          "base_uri": "https://localhost:8080/"
        },
        "outputId": "f3bbb05c-8185-4463-f541-93911646fdf8"
      },
      "outputs": [
        {
          "output_type": "stream",
          "name": "stdout",
          "text": [
            "Epoch 1/5\n",
            "131/132 [============================>.] - ETA: 0s - loss: 0.4887 - accuracy: 0.7338\n",
            "Epoch 1: val_accuracy improved from -inf to 0.84225, saving model to best_model_cnn.h5\n",
            "132/132 [==============================] - 8s 52ms/step - loss: 0.4881 - accuracy: 0.7340 - val_loss: 0.3579 - val_accuracy: 0.8422\n",
            "Epoch 2/5\n",
            "131/132 [============================>.] - ETA: 0s - loss: 0.2031 - accuracy: 0.9202\n",
            "Epoch 2: val_accuracy improved from 0.84225 to 0.86096, saving model to best_model_cnn.h5\n",
            "132/132 [==============================] - 9s 70ms/step - loss: 0.2032 - accuracy: 0.9201 - val_loss: 0.3524 - val_accuracy: 0.8610\n",
            "Epoch 3/5\n",
            "131/132 [============================>.] - ETA: 0s - loss: 0.0693 - accuracy: 0.9786\n",
            "Epoch 3: val_accuracy did not improve from 0.86096\n",
            "132/132 [==============================] - 6s 48ms/step - loss: 0.0692 - accuracy: 0.9786 - val_loss: 0.4626 - val_accuracy: 0.8599\n",
            "Epoch 4/5\n",
            "131/132 [============================>.] - ETA: 0s - loss: 0.0181 - accuracy: 0.9955\n",
            "Epoch 4: val_accuracy did not improve from 0.86096\n",
            "132/132 [==============================] - 8s 64ms/step - loss: 0.0181 - accuracy: 0.9955 - val_loss: 0.5905 - val_accuracy: 0.8519\n",
            "Epoch 5/5\n",
            "131/132 [============================>.] - ETA: 0s - loss: 0.0043 - accuracy: 0.9991\n",
            "Epoch 5: val_accuracy did not improve from 0.86096\n",
            "132/132 [==============================] - 7s 50ms/step - loss: 0.0043 - accuracy: 0.9990 - val_loss: 0.6674 - val_accuracy: 0.8540\n"
          ]
        }
      ],
      "source": [
        "history_cnn_preproc = model_cnn_preproc.fit(x_train, \n",
        "                            y_train, \n",
        "                            epochs=5,\n",
        "                            batch_size=128,\n",
        "                            validation_split=0.1,\n",
        "                            callbacks=[checkpoint_callback_cnn])"
      ],
      "id": "360576a9"
    },
    {
      "cell_type": "code",
      "execution_count": 113,
      "metadata": {
        "id": "6f97ac8e",
        "colab": {
          "base_uri": "https://localhost:8080/",
          "height": 472
        },
        "outputId": "20e1dce6-9528-4d30-8adf-b99c5f7b6eef"
      },
      "outputs": [
        {
          "output_type": "display_data",
          "data": {
            "text/plain": [
              "<Figure size 640x480 with 1 Axes>"
            ],
            "image/png": "[encoded data removed]"
          },
          "metadata": {}
        }
      ],
      "source": [
        "plt.plot(history_cnn_preproc.history['accuracy'], \n",
        "         label='Доля верных ответов на обучающем наборе')\n",
        "plt.plot(history_cnn_preproc.history['val_accuracy'], \n",
        "         label='Доля верных ответов на проверочном наборе')\n",
        "plt.title('CNN-model')\n",
        "plt.xlabel('Эпоха обучения')\n",
        "plt.ylabel('Доля верных ответов')\n",
        "plt.legend()\n",
        "plt.show()"
      ],
      "id": "6f97ac8e"
    },
    {
      "cell_type": "code",
      "execution_count": 113,
      "metadata": {
        "id": "ecd0a26d"
      },
      "outputs": [],
      "source": [],
      "id": "ecd0a26d"
    },
    {
      "cell_type": "code",
      "execution_count": 114,
      "metadata": {
        "id": "09506b0a",
        "colab": {
          "base_uri": "https://localhost:8080/"
        },
        "outputId": "22fd831a-0f64-4305-990b-15f230933ca9"
      },
      "outputs": [
        {
          "output_type": "stream",
          "name": "stdout",
          "text": [
            "251/251 [==============================] - 1s 5ms/step - loss: 0.3679 - accuracy: 0.8484\n"
          ]
        },
        {
          "output_type": "execute_result",
          "data": {
            "text/plain": [
              "0.8483713865280151"
            ]
          },
          "metadata": {},
          "execution_count": 114
        }
      ],
      "source": [
        "model_cnn_preproc.load_weights(model_cnn_preproc_save_path)\n",
        "cnn_preproc = model_cnn_preproc.evaluate(x_test, y_test, verbose=1)[1]\n",
        "cnn_preproc"
      ],
      "id": "09506b0a"
    },
    {
      "cell_type": "code",
      "source": [],
      "metadata": {
        "id": "MiMRECPwt21J"
      },
      "id": "MiMRECPwt21J",
      "execution_count": 114,
      "outputs": []
    },
    {
      "cell_type": "markdown",
      "source": [
        "### Cеть LSTM"
      ],
      "metadata": {
        "id": "PZRBdsGWvznr"
      },
      "id": "PZRBdsGWvznr"
    },
    {
      "cell_type": "code",
      "execution_count": 115,
      "metadata": {
        "id": "30c148d2"
      },
      "outputs": [],
      "source": [
        "model_lstm_preproc = Sequential()\n",
        "model_lstm_preproc.add(Embedding(num_words, 32, input_length=max_news_len))\n",
        "model_lstm_preproc.add(LSTM(16))\n",
        "model_lstm_preproc.add(Dense(2, activation='softmax'))"
      ],
      "id": "30c148d2"
    },
    {
      "cell_type": "code",
      "execution_count": 116,
      "metadata": {
        "id": "b446b21e"
      },
      "outputs": [],
      "source": [
        "model_lstm_preproc.compile(optimizer='adam', \n",
        "              loss='categorical_crossentropy', \n",
        "              metrics=['accuracy'])"
      ],
      "id": "b446b21e"
    },
    {
      "cell_type": "code",
      "execution_count": 117,
      "metadata": {
        "id": "b7b27dd0",
        "colab": {
          "base_uri": "https://localhost:8080/"
        },
        "outputId": "cddf236d-1cdd-4570-89d6-18ce5d2e2223"
      },
      "outputs": [
        {
          "output_type": "stream",
          "name": "stdout",
          "text": [
            "Model: \"sequential_3\"\n",
            "_________________________________________________________________\n",
            " Layer (type)                Output Shape              Param #   \n",
            "=================================================================\n",
            " embedding_3 (Embedding)     (None, 44, 32)            640000    \n",
            "                                                                 \n",
            " lstm_1 (LSTM)               (None, 16)                3136      \n",
            "                                                                 \n",
            " dense_5 (Dense)             (None, 2)                 34        \n",
            "                                                                 \n",
            "=================================================================\n",
            "Total params: 643,170\n",
            "Trainable params: 643,170\n",
            "Non-trainable params: 0\n",
            "_________________________________________________________________\n"
          ]
        }
      ],
      "source": [
        "model_lstm_preproc.summary()\n"
      ],
      "id": "b7b27dd0"
    },
    {
      "cell_type": "code",
      "execution_count": 118,
      "metadata": {
        "id": "778fc2be"
      },
      "outputs": [],
      "source": [
        "model_lstm_preproc_save_path = 'best_model_lstm.h5'\n",
        "checkpoint_callback_lstm = ModelCheckpoint(model_lstm_preproc_save_path, \n",
        "                                      monitor='val_accuracy',\n",
        "                                      save_best_only=True,\n",
        "                                      verbose=1)"
      ],
      "id": "778fc2be"
    },
    {
      "cell_type": "code",
      "execution_count": 119,
      "metadata": {
        "id": "e990cfcc",
        "colab": {
          "base_uri": "https://localhost:8080/"
        },
        "outputId": "4b18ffb1-743c-49e7-d3f0-103ccbd58eb6"
      },
      "outputs": [
        {
          "output_type": "stream",
          "name": "stdout",
          "text": [
            "Epoch 1/5\n",
            "132/132 [==============================] - ETA: 0s - loss: 0.5685 - accuracy: 0.6810\n",
            "Epoch 1: val_accuracy improved from -inf to 0.84278, saving model to best_model_lstm.h5\n",
            "132/132 [==============================] - 8s 45ms/step - loss: 0.5685 - accuracy: 0.6810 - val_loss: 0.3856 - val_accuracy: 0.8428\n",
            "Epoch 2/5\n",
            "131/132 [============================>.] - ETA: 0s - loss: 0.2732 - accuracy: 0.8931\n",
            "Epoch 2: val_accuracy improved from 0.84278 to 0.87059, saving model to best_model_lstm.h5\n",
            "132/132 [==============================] - 6s 47ms/step - loss: 0.2733 - accuracy: 0.8929 - val_loss: 0.3219 - val_accuracy: 0.8706\n",
            "Epoch 3/5\n",
            "131/132 [============================>.] - ETA: 0s - loss: 0.1498 - accuracy: 0.9488\n",
            "Epoch 3: val_accuracy did not improve from 0.87059\n",
            "132/132 [==============================] - 5s 39ms/step - loss: 0.1497 - accuracy: 0.9488 - val_loss: 0.3552 - val_accuracy: 0.8610\n",
            "Epoch 4/5\n",
            "132/132 [==============================] - ETA: 0s - loss: 0.0829 - accuracy: 0.9741\n",
            "Epoch 4: val_accuracy did not improve from 0.87059\n",
            "132/132 [==============================] - 7s 51ms/step - loss: 0.0829 - accuracy: 0.9741 - val_loss: 0.4222 - val_accuracy: 0.8572\n",
            "Epoch 5/5\n",
            "132/132 [==============================] - ETA: 0s - loss: 0.0483 - accuracy: 0.9862\n",
            "Epoch 5: val_accuracy did not improve from 0.87059\n",
            "132/132 [==============================] - 5s 40ms/step - loss: 0.0483 - accuracy: 0.9862 - val_loss: 0.5179 - val_accuracy: 0.8540\n"
          ]
        }
      ],
      "source": [
        "history_lstm_preproc = model_lstm_preproc.fit(x_train, \n",
        "                              y_train, \n",
        "                              epochs=5,\n",
        "                              batch_size=128,\n",
        "                              validation_split=0.1,\n",
        "                              callbacks=[checkpoint_callback_lstm])"
      ],
      "id": "e990cfcc"
    },
    {
      "cell_type": "code",
      "source": [
        "plt.plot(history_lstm_preproc.history['accuracy'], \n",
        "         label='Доля верных ответов на обучающем наборе')\n",
        "plt.plot(history_lstm_preproc.history['val_accuracy'], \n",
        "         label='Доля верных ответов на проверочном наборе')\n",
        "plt.title('LSTM model')\n",
        "plt.xlabel('Эпоха обучения')\n",
        "plt.ylabel('Доля верных ответов')\n",
        "plt.legend()\n",
        "plt.show()"
      ],
      "metadata": {
        "colab": {
          "base_uri": "https://localhost:8080/",
          "height": 472
        },
        "id": "vXCFwd7rvWjj",
        "outputId": "423828c8-5f71-46b2-bf74-41d1ae42ac1c"
      },
      "id": "vXCFwd7rvWjj",
      "execution_count": 120,
      "outputs": [
        {
          "output_type": "display_data",
          "data": {
            "text/plain": [
              "<Figure size 640x480 with 1 Axes>"
            ],
            "image/png": "[encoded data removed]"
          },
          "metadata": {}
        }
      ]
    },
    {
      "cell_type": "code",
      "execution_count": 121,
      "metadata": {
        "id": "38de2a8e",
        "colab": {
          "base_uri": "https://localhost:8080/"
        },
        "outputId": "fd935366-d282-4103-eaf0-8da9964f0764"
      },
      "outputs": [
        {
          "output_type": "stream",
          "name": "stdout",
          "text": [
            "251/251 [==============================] - 2s 7ms/step - loss: 0.3316 - accuracy: 0.8570\n"
          ]
        },
        {
          "output_type": "execute_result",
          "data": {
            "text/plain": [
              "0.856982409954071"
            ]
          },
          "metadata": {},
          "execution_count": 121
        }
      ],
      "source": [
        "model_lstm_preproc.load_weights(model_lstm_preproc_save_path)\n",
        "lstm_preproc = model_lstm_preproc.evaluate(x_test, y_test, verbose=1)[1]\n",
        "lstm_preproc"
      ],
      "id": "38de2a8e"
    },
    {
      "cell_type": "code",
      "execution_count": 122,
      "metadata": {
        "id": "8c13f577",
        "colab": {
          "base_uri": "https://localhost:8080/"
        },
        "outputId": "48cdd67d-1782-4eb6-cc09-36cf41cb2d76"
      },
      "outputs": [
        {
          "output_type": "stream",
          "name": "stdout",
          "text": [
            "251/251 [==============================] - 2s 6ms/step\n"
          ]
        }
      ],
      "source": [
        "y_lstm_preproc = model_lstm_preproc.predict(x_test)"
      ],
      "id": "8c13f577"
    },
    {
      "cell_type": "markdown",
      "source": [
        "# Результаты."
      ],
      "metadata": {
        "id": "RTJRSDZfs9GN"
      },
      "id": "RTJRSDZfs9GN"
    },
    {
      "cell_type": "code",
      "source": [
        "lstm_"
      ],
      "metadata": {
        "colab": {
          "base_uri": "https://localhost:8080/"
        },
        "id": "Ygd-InWx0ZR7",
        "outputId": "bbf6421a-894a-4bc5-d2ac-452a1cd0029a"
      },
      "id": "Ygd-InWx0ZR7",
      "execution_count": 127,
      "outputs": [
        {
          "output_type": "execute_result",
          "data": {
            "text/plain": [
              "[0.8609759211540222, 0.856982409954071]"
            ]
          },
          "metadata": {},
          "execution_count": 127
        }
      ]
    },
    {
      "cell_type": "code",
      "source": [
        "plt.figure(figsize=(10, 6))\n",
        "\n",
        "\n",
        "# set width of bars\n",
        "barWidth = 0.1\n",
        "\n",
        "# set heights of bars\n",
        "log_reg = [acc_lr, acc_lr_preproc]\n",
        "random_forest = [acc_rfc, acc_rfc_preproc]\n",
        "# svm_ = [acc_svm, acc_svm_preproc]\n",
        "# xgb = [acc_xg, acc_xg_preproc]\n",
        "cnn_ = [cnn, cnn_preproc]\n",
        "lstm_ = [lstm, lstm_preproc]\n",
        "\n",
        " \n",
        "# Set position of bar on X axis\n",
        "r1 = np.arange(len(log_reg))\n",
        "r2 = [x + barWidth for x in r1]\n",
        "r3 = [x + barWidth for x in r2]\n",
        "r4 = [x + barWidth for x in r3]\n",
        "# r5 = [x + barWidth for x in r4]\n",
        "# r6 = [x + barWidth for x in r5]\n",
        " \n",
        "# Make the plot\n",
        "plt.bar(r1, log_reg, color='blue', width=barWidth, edgecolor='white', label='LogisticRegression')\n",
        "plt.bar(r2, random_forest, width=barWidth, edgecolor='white', label='RandomForest')\n",
        "# plt.bar(r3, svm_, width=barWidth, edgecolor='white', label='SVM')\n",
        "# plt.bar(r4, xgb, width=barWidth, edgecolor='white', label='XGBoost')\n",
        "plt.bar(r3, cnn_, width=barWidth, edgecolor='white', label='CNN')\n",
        "plt.bar(r4, lstm_, width=barWidth, edgecolor='white', label='LSTM')\n",
        " \n",
        "# Add xticks on the middle of the group bars\n",
        "# plt.xlabel('group', fontweight='bold')\n",
        "plt.xticks([r + 1.5*barWidth for r in range(len(log_reg))], ['without preprocessing', 'with preprocessing'])\n",
        "\n",
        "\n",
        "plt.grid(axis = 'y',\n",
        "        color = 'blue',\n",
        "        linewidth = 0.2,\n",
        "        linestyle = '--'\n",
        ")\n",
        "# Create legend & Show graphic\n",
        "plt.legend(loc='center')\n",
        "plt.ylabel('Accuracy')\n",
        "plt.show()"
      ],
      "metadata": {
        "colab": {
          "base_uri": "https://localhost:8080/",
          "height": 522
        },
        "id": "6TC56xgJuY-w",
        "outputId": "919119d7-781d-4d55-9cd9-da68f2ec3ba4"
      },
      "id": "6TC56xgJuY-w",
      "execution_count": 130,
      "outputs": [
        {
          "output_type": "display_data",
          "data": {
            "text/plain": [
              "<Figure size 1000x600 with 1 Axes>"
            ],
            "image/png": "[encoded data removed]"
          },
          "metadata": {}
        }
      ]
    },
    {
      "cell_type": "code",
      "source": [],
      "metadata": {
        "id": "fhk78HBQJsrt"
      },
      "id": "fhk78HBQJsrt",
      "execution_count": 123,
      "outputs": []
    },
    {
      "cell_type": "code",
      "source": [],
      "metadata": {
        "id": "ZXrlvvLiKC6N"
      },
      "id": "ZXrlvvLiKC6N",
      "execution_count": 123,
      "outputs": []
    },
    {
      "cell_type": "code",
      "source": [],
      "metadata": {
        "id": "FEb_79J9KCz3"
      },
      "id": "FEb_79J9KCz3",
      "execution_count": 123,
      "outputs": []
    },
    {
      "cell_type": "code",
      "source": [],
      "metadata": {
        "id": "jUX0ModBKCtT"
      },
      "id": "jUX0ModBKCtT",
      "execution_count": 123,
      "outputs": []
    },
    {
      "cell_type": "code",
      "source": [],
      "metadata": {
        "id": "FfwG-lceKCmP"
      },
      "id": "FfwG-lceKCmP",
      "execution_count": 123,
      "outputs": []
    },
    {
      "cell_type": "code",
      "source": [],
      "metadata": {
        "id": "HxvSouxiKCe5"
      },
      "id": "HxvSouxiKCe5",
      "execution_count": 123,
      "outputs": []
    },
    {
      "cell_type": "code",
      "source": [],
      "metadata": {
        "id": "4ALgWLOdKCYA"
      },
      "id": "4ALgWLOdKCYA",
      "execution_count": 123,
      "outputs": []
    },
    {
      "cell_type": "code",
      "source": [],
      "metadata": {
        "id": "pcmYpp1sKCRN"
      },
      "id": "pcmYpp1sKCRN",
      "execution_count": 123,
      "outputs": []
    },
    {
      "cell_type": "code",
      "source": [],
      "metadata": {
        "id": "eQq17IX4xnLz"
      },
      "id": "eQq17IX4xnLz",
      "execution_count": 123,
      "outputs": []
    }
  ],
  "metadata": {
    "colab": {
      "provenance": [],
      "include_colab_link": true
    },
    "kernelspec": {
      "display_name": "Python 3 (ipykernel)",
      "language": "python",
      "name": "python3"
    },
    "language_info": {
      "codemirror_mode": {
        "name": "ipython",
        "version": 3
      },
      "file_extension": ".py",
      "mimetype": "text/x-python",
      "name": "python",
      "nbconvert_exporter": "python",
      "pygments_lexer": "ipython3",
      "version": "3.9.13"
    }
  },
  "nbformat": 4,
  "nbformat_minor": 5
}